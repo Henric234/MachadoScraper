{
 "cells": [
  {
   "cell_type": "markdown",
   "id": "18e209c3",
   "metadata": {},
   "source": [
    "# Machado Scraper\n",
    "In this notebook, a webscraper will collect and save the html files containing the text."
   ]
  },
  {
   "cell_type": "code",
   "execution_count": 58,
   "id": "de74935a",
   "metadata": {},
   "outputs": [],
   "source": [
    "from selenium import webdriver\n",
    "from time import sleep\n",
    "import re\n",
    "from tqdm import tqdm"
   ]
  },
  {
   "cell_type": "code",
   "execution_count": 60,
   "id": "25a6d9ac",
   "metadata": {},
   "outputs": [],
   "source": [
    "def save_html(link):\n",
    "    \"\"\"\n",
    "    ChatGPT helped me write this code! How ironic.\n",
    "    \"\"\"\n",
    "    pattern = \"^(https:\\/\\/machadodeassis\\.net\\/texto\\/(.*)\\/\\d+)\"\n",
    "    match = re.search(pattern,link)\n",
    "    # start a web driver\n",
    "    driver = webdriver.Firefox()\n",
    "\n",
    "    # navigate to the website\n",
    "    driver.get(link)\n",
    "\n",
    "    # wait for the page to load\n",
    "    driver.implicitly_wait(10)\n",
    "\n",
    "    # define the scrolling distance\n",
    "    scroll_distance = 1000\n",
    "\n",
    "    # keep scrolling down until the end of the page\n",
    "    counter = 1\n",
    "    while True:\n",
    "        # get the current HTML source code\n",
    "        html = driver.page_source\n",
    "        # save the HTML source code\n",
    "\n",
    "        # scroll down\n",
    "        driver.execute_script(\"window.scrollTo(0, document.body.scrollHeight);\")\n",
    "        # wait for the page to update\n",
    "        sleep(2)\n",
    "        # check if we've reached the end of the page\n",
    "        if html == driver.page_source:\n",
    "            with open(f'htmls/html_{match[2]}_{counter}.html', 'w', encoding='utf-8') as f:\n",
    "                f.write(html)\n",
    "            break\n",
    "        counter += 1\n",
    "\n",
    "    # close the web driver\n",
    "    driver.quit()\n"
   ]
  },
  {
   "cell_type": "markdown",
   "id": "9a3eed25",
   "metadata": {},
   "source": [
    "This html file was downloaded from [here](https://machadodeassis.net/obra). It contains the link to every book, so it will help us go through all of them."
   ]
  },
  {
   "cell_type": "code",
   "execution_count": 51,
   "id": "0187d46e",
   "metadata": {
    "scrolled": true
   },
   "outputs": [
    {
     "data": {
      "text/plain": [
       "['https://machadodeassis.net/texto/a-mao-e-a-luva/1434',\n",
       " 'https://machadodeassis.net/texto/dom-casmurro/11503',\n",
       " 'https://machadodeassis.net/texto/esau-e-jaco/13998',\n",
       " 'https://machadodeassis.net/texto/helena/2554',\n",
       " 'https://machadodeassis.net/texto/iaia-garcia/4304',\n",
       " 'https://machadodeassis.net/texto/memorial-de-aires/16866',\n",
       " 'https://machadodeassis.net/texto/memorias-postumas-de-bras-cubas/5985',\n",
       " 'https://machadodeassis.net/texto/quincas-borba/8340',\n",
       " 'https://machadodeassis.net/texto/quincas-borba-a-estacao/18790',\n",
       " 'https://machadodeassis.net/texto/ressurreicao/2',\n",
       " 'https://machadodeassis.net/texto/a-carteira/56869',\n",
       " 'https://machadodeassis.net/texto/a-cartomante/30367',\n",
       " 'https://machadodeassis.net/texto/a-causa-secreta/30782',\n",
       " 'https://machadodeassis.net/texto/a-chave/54700',\n",
       " 'https://machadodeassis.net/texto/a-chinela-turca/27943',\n",
       " 'https://machadodeassis.net/texto/a-desejada-das-gentes/30701',\n",
       " 'https://machadodeassis.net/texto/a-heranca/53509',\n",
       " 'https://machadodeassis.net/texto/a-ideia-do-ezequiel-maia/56093',\n",
       " 'https://machadodeassis.net/texto/a-igreja-do-diabo/28933',\n",
       " 'https://machadodeassis.net/texto/a-inglesinha-barcelos/60337',\n",
       " 'https://machadodeassis.net/texto/a-magoa-do-infeliz-cosme/48290',\n",
       " 'https://machadodeassis.net/texto/a-melhor-das-noivas/52683',\n",
       " 'https://machadodeassis.net/texto/a-mulher-de-preto/22849',\n",
       " 'https://machadodeassis.net/texto/a-mulher-palida/55236',\n",
       " 'https://machadodeassis.net/texto/a-parasita-azul/25537',\n",
       " 'https://machadodeassis.net/texto/a-pianista/36150',\n",
       " 'https://machadodeassis.net/texto/a-segunda-vida/29867',\n",
       " 'https://machadodeassis.net/texto/a-senhora-do-galvao/30179',\n",
       " 'https://machadodeassis.net/texto/a-serenissima-republica/28599',\n",
       " 'https://machadodeassis.net/texto/a-ultima-receita/48483',\n",
       " 'https://machadodeassis.net/texto/a-viuva-sobral/57064',\n",
       " 'https://machadodeassis.net/texto/adao-e-eva/30980',\n",
       " 'https://machadodeassis.net/texto/aires-e-vergueiro/39642',\n",
       " 'https://machadodeassis.net/texto/almas-agradecidas/40352',\n",
       " 'https://machadodeassis.net/texto/anedota-do-cabriolet/33306',\n",
       " 'https://machadodeassis.net/texto/anedota-pecuniaria/29712',\n",
       " 'https://machadodeassis.net/texto/antes-que-cases/47573',\n",
       " 'https://machadodeassis.net/texto/as-academias-de-siao/30261',\n",
       " 'https://machadodeassis.net/texto/as-bodas-de-luis-duarte/26124',\n",
       " 'https://machadodeassis.net/texto/astucias-de-marido/36560',\n",
       " 'https://machadodeassis.net/texto/aurora-sem-dia/26691',\n",
       " 'https://machadodeassis.net/texto/brincar-com-fogo/48086',\n",
       " 'https://machadodeassis.net/texto/cantiga-de-esponsais/29145',\n",
       " 'https://machadodeassis.net/texto/cantiga-velha/56608',\n",
       " 'https://machadodeassis.net/texto/capitulo-dos-chapeus/29341',\n",
       " 'https://machadodeassis.net/texto/casa-velha/57705',\n",
       " 'https://machadodeassis.net/texto/casa-nao-casa/49360',\n",
       " 'https://machadodeassis.net/texto/casada-e-viuva/34143',\n",
       " 'https://machadodeassis.net/texto/cinco-mulheres/35142',\n",
       " 'https://machadodeassis.net/texto/como-se-inventaram-os-almanaques/59168',\n",
       " 'https://machadodeassis.net/texto/confissoes-de-uma-viuva-moca/23960',\n",
       " 'https://machadodeassis.net/texto/conto-alexandrino/29481',\n",
       " 'https://machadodeassis.net/texto/conto-de-escola/31326',\n",
       " 'https://machadodeassis.net/texto/conversao-de-um-avaro/53632',\n",
       " 'https://machadodeassis.net/texto/curta-historia/58657',\n",
       " 'https://machadodeassis.net/texto/decadencia-de-dois-grandes-homens/44443',\n",
       " 'https://machadodeassis.net/texto/divida-extinta/54004',\n",
       " 'https://machadodeassis.net/texto/dona-benedita/28160',\n",
       " 'https://machadodeassis.net/texto/dona-jucunda/59051',\n",
       " 'https://machadodeassis.net/texto/dona-monica/51254',\n",
       " 'https://machadodeassis.net/texto/dona-paula/31453',\n",
       " 'https://machadodeassis.net/texto/encher-tempo/50573',\n",
       " 'https://machadodeassis.net/texto/entre-duas-datas/57192',\n",
       " 'https://machadodeassis.net/texto/entre-santos/30452',\n",
       " 'https://machadodeassis.net/texto/ernesto-de-tal/26362',\n",
       " 'https://machadodeassis.net/texto/eterno/32064',\n",
       " 'https://machadodeassis.net/texto/evolucao/33121',\n",
       " 'https://machadodeassis.net/texto/ex-cathedra/30104',\n",
       " 'https://machadodeassis.net/texto/flor-anonima/60482',\n",
       " 'https://machadodeassis.net/texto/folha-rota/53884',\n",
       " 'https://machadodeassis.net/texto/frei-simao/25425',\n",
       " 'https://machadodeassis.net/texto/fulano/29803',\n",
       " 'https://machadodeassis.net/texto/galeria-postuma/29278',\n",
       " 'https://machadodeassis.net/texto/habilidoso/58393',\n",
       " 'https://machadodeassis.net/texto/historia-comum/56145',\n",
       " 'https://machadodeassis.net/texto/historia-de-uma-fita-azul/49645',\n",
       " 'https://machadodeassis.net/texto/ideias-de-canario/32285',\n",
       " 'https://machadodeassis.net/texto/identidade/58822',\n",
       " 'https://machadodeassis.net/texto/joao-fernandes/60283',\n",
       " 'https://machadodeassis.net/texto/jogo-do-bicho/60679',\n",
       " 'https://machadodeassis.net/texto/lagrimas-de-xerxes/32333',\n",
       " 'https://machadodeassis.net/texto/letra-vencida/55702',\n",
       " 'https://machadodeassis.net/texto/linha-reta-e-linha-curva/24414',\n",
       " 'https://machadodeassis.net/texto/longe-dos-olhos/50298',\n",
       " 'https://machadodeassis.net/texto/luis-soares/22463',\n",
       " 'https://machadodeassis.net/texto/manuscrito-de-um-sacristao/30015',\n",
       " 'https://machadodeassis.net/texto/marcha-funebre/32805',\n",
       " 'https://machadodeassis.net/texto/maria-cora/32598',\n",
       " 'https://machadodeassis.net/texto/mariana/39389',\n",
       " 'https://machadodeassis.net/texto/mariana/31230',\n",
       " 'https://machadodeassis.net/texto/medico-e-remedio/56523',\n",
       " 'https://machadodeassis.net/texto/miloca/46928',\n",
       " 'https://machadodeassis.net/texto/miss-dollar/22123',\n",
       " 'https://machadodeassis.net/texto/missa-do-galo/32191',\n",
       " 'https://machadodeassis.net/texto/muitos-anos-depois/46593',\n",
       " 'https://machadodeassis.net/texto/na-arca/28059',\n",
       " 'https://machadodeassis.net/texto/nao-e-o-mel-para-a-boca-do-asno/37279',\n",
       " 'https://machadodeassis.net/texto/nem-uma-nem-outra/44963',\n",
       " 'https://machadodeassis.net/texto/noite-de-almirante/29931',\n",
       " 'https://machadodeassis.net/texto/o-alienista/27353',\n",
       " 'https://machadodeassis.net/texto/o-anel-de-policrates/28415',\n",
       " 'https://machadodeassis.net/texto/o-anjo-das-donzelas/33852',\n",
       " 'https://machadodeassis.net/texto/o-anjo-rafael/37996',\n",
       " 'https://machadodeassis.net/texto/o-astrologo/51660',\n",
       " 'https://machadodeassis.net/texto/o-caminho-de-damasco/39803',\n",
       " 'https://machadodeassis.net/texto/o-capitao-mendonca/38709',\n",
       " 'https://machadodeassis.net/texto/o-carro-numero-13/37720',\n",
       " 'https://machadodeassis.net/texto/o-caso-barreto/59411',\n",
       " 'https://machadodeassis.net/texto/o-caso-da-vara/31723',\n",
       " 'https://machadodeassis.net/texto/o-caso-da-viuva/55009',\n",
       " 'https://machadodeassis.net/texto/o-caso-do-romualdo/57374',\n",
       " 'https://machadodeassis.net/texto/o-conego-ou-metafisica-do-estilo/31645',\n",
       " 'https://machadodeassis.net/texto/o-contrato/56827',\n",
       " 'https://machadodeassis.net/texto/o-destinado/56185',\n",
       " 'https://machadodeassis.net/texto/o-dicionario/31816',\n",
       " 'https://machadodeassis.net/texto/o-diplomatico/31130',\n",
       " 'https://machadodeassis.net/texto/o-emprestimo/28511',\n",
       " 'https://machadodeassis.net/texto/o-enfermeiro/31060',\n",
       " 'https://machadodeassis.net/texto/o-escrivao-coimbra/61137',\n",
       " 'https://machadodeassis.net/texto/o-espelho/28653',\n",
       " 'https://machadodeassis.net/texto/o-imortal/55451',\n",
       " 'https://machadodeassis.net/texto/o-lapso/29028',\n",
       " 'https://machadodeassis.net/texto/o-machete/53353',\n",
       " 'https://machadodeassis.net/texto/o-melhor-remedio/56912',\n",
       " 'https://machadodeassis.net/texto/o-oraculo/35467',\n",
       " 'https://machadodeassis.net/texto/o-pais-das-quimeras/33439',\n",
       " 'https://machadodeassis.net/texto/o-passado-passado/51048',\n",
       " 'https://machadodeassis.net/texto/o-programa/55838',\n",
       " 'https://machadodeassis.net/texto/o-que-sao-as-mocas/35810',\n",
       " 'https://machadodeassis.net/texto/o-rei-dos-caiporas/39114',\n",
       " 'https://machadodeassis.net/texto/o-relogio-de-ouro/26957',\n",
       " 'https://machadodeassis.net/texto/o-sainete/49225',\n",
       " 'https://machadodeassis.net/texto/o-segredo-de-augusta/23397',\n",
       " 'https://machadodeassis.net/texto/o-segredo-do-bonzo/28376',\n",
       " 'https://machadodeassis.net/texto/o-ultimo-dia-de-um-poeta/36845',\n",
       " 'https://machadodeassis.net/texto/onze-anos-depois/48930',\n",
       " 'https://machadodeassis.net/texto/orai-por-ele/60440',\n",
       " 'https://machadodeassis.net/texto/os-oculos-de-pedro-antao/45880',\n",
       " 'https://machadodeassis.net/texto/pai-contra-mae/32488',\n",
       " 'https://machadodeassis.net/texto/papeis-velhos/32418',\n",
       " 'https://machadodeassis.net/texto/pilades-e-orestes/33199',\n",
       " 'https://machadodeassis.net/texto/pobre-cardeal/58734',\n",
       " 'https://machadodeassis.net/texto/pobre-finoca/59229',\n",
       " 'https://machadodeassis.net/texto/ponto-de-vista/27062',\n",
       " 'https://machadodeassis.net/texto/primas-de-sapucaia/29577',\n",
       " 'https://machadodeassis.net/texto/qual-dos-dois/42602',\n",
       " 'https://machadodeassis.net/texto/quem-conta-um-conto/43777',\n",
       " 'https://machadodeassis.net/texto/quem-nao-quer-ser-lobo/41310',\n",
       " 'https://machadodeassis.net/texto/questao-de-vaidade/34360',\n",
       " 'https://machadodeassis.net/texto/questoes-de-maridos/56353',\n",
       " 'https://machadodeassis.net/texto/rui-de-leao/40788',\n",
       " 'https://machadodeassis.net/texto/sales/58949',\n",
       " 'https://machadodeassis.net/texto/sem-olhos/51816',\n",
       " 'https://machadodeassis.net/texto/silvestre/52407',\n",
       " 'https://machadodeassis.net/texto/singular-ocorrencia/29187',\n",
       " 'https://machadodeassis.net/texto/so/57605',\n",
       " 'https://machadodeassis.net/texto/suje-se-gordo/33016',\n",
       " 'https://machadodeassis.net/texto/tempo-de-crise/44137',\n",
       " 'https://machadodeassis.net/texto/teoria-do-medalhao/27839',\n",
       " 'https://machadodeassis.net/texto/terpsicore/58571',\n",
       " 'https://machadodeassis.net/texto/to-be-or-not-to-be/50000',\n",
       " 'https://machadodeassis.net/texto/tres-consequencias/56434',\n",
       " 'https://machadodeassis.net/texto/tres-tesouros-perdidos/33373',\n",
       " 'https://machadodeassis.net/texto/trina-e-uma/56721',\n",
       " 'https://machadodeassis.net/texto/trio-em-la-menor/30885',\n",
       " 'https://machadodeassis.net/texto/troca-de-datas/56227',\n",
       " 'https://machadodeassis.net/texto/ultimo-capitulo/29108',\n",
       " 'https://machadodeassis.net/texto/um-almoco/52092',\n",
       " 'https://machadodeassis.net/texto/um-ambicioso/52989',\n",
       " 'https://machadodeassis.net/texto/um-apologo/31424',\n",
       " 'https://machadodeassis.net/texto/um-capitao-de-voluntarios/32877',\n",
       " 'https://machadodeassis.net/texto/um-dia-de-entrudo/46175',\n",
       " 'https://machadodeassis.net/texto/um-distico/58693',\n",
       " 'https://machadodeassis.net/texto/um-erradio/31847',\n",
       " 'https://machadodeassis.net/texto/um-esqueleto/48633',\n",
       " 'https://machadodeassis.net/texto/um-homem-celebre/30592',\n",
       " 'https://machadodeassis.net/texto/um-homem-superior/44708',\n",
       " 'https://machadodeassis.net/texto/um-incendio/61095',\n",
       " 'https://machadodeassis.net/texto/um-para-o-outro/54377',\n",
       " 'https://machadodeassis.net/texto/um-quarto-de-seculo/60066',\n",
       " 'https://machadodeassis.net/texto/um-sonho-e-outro-sonho/59534',\n",
       " 'https://machadodeassis.net/texto/uma-aguia-sem-asas/42331',\n",
       " 'https://machadodeassis.net/texto/uma-carta/57550',\n",
       " 'https://machadodeassis.net/texto/uma-excursao-milagrosa/35596',\n",
       " 'https://machadodeassis.net/texto/uma-loureira/41915',\n",
       " 'https://machadodeassis.net/texto/uma-noite/60553',\n",
       " 'https://machadodeassis.net/texto/uma-partida/59686',\n",
       " 'https://machadodeassis.net/texto/uma-por-outra/60792',\n",
       " 'https://machadodeassis.net/texto/uma-senhora/29661',\n",
       " 'https://machadodeassis.net/texto/uma-visita-de-alcibiades/28724',\n",
       " 'https://machadodeassis.net/texto/umas-ferias/33058',\n",
       " 'https://machadodeassis.net/texto/uns-bracos/30526',\n",
       " 'https://machadodeassis.net/texto/valerio/47226',\n",
       " 'https://machadodeassis.net/texto/venus-divina-venus/59883',\n",
       " 'https://machadodeassis.net/texto/verba-testamentaria/28831',\n",
       " 'https://machadodeassis.net/texto/viagem-a-roda-de-mim-mesmo/58460',\n",
       " 'https://machadodeassis.net/texto/vidros-quebrados/56474',\n",
       " 'https://machadodeassis.net/texto/vinte-anos-vinte-anos/57300',\n",
       " 'https://machadodeassis.net/texto/virginius/33618',\n",
       " 'https://machadodeassis.net/texto/viver/31530']"
      ]
     },
     "execution_count": 51,
     "metadata": {},
     "output_type": "execute_result"
    }
   ],
   "source": [
    "pattern = \"<a href=\\\"(https:\\/\\/machadodeassis\\.net\\/texto\\/.*\\/\\d+)\\\">\"\n",
    "\n",
    "f = open(\"Obra _ Machado de Assis.html\", \"rt\",encoding='utf-8')\n",
    "\n",
    "match = re.findall(pattern,f.read())\n",
    "match"
   ]
  },
  {
   "cell_type": "code",
   "execution_count": 54,
   "id": "e1a26f33",
   "metadata": {},
   "outputs": [
    {
     "data": {
      "text/plain": [
       "200"
      ]
     },
     "execution_count": 54,
     "metadata": {},
     "output_type": "execute_result"
    }
   ],
   "source": [
    "len(list(set(match)))"
   ]
  },
  {
   "cell_type": "code",
   "execution_count": 62,
   "id": "22f5d0b4",
   "metadata": {},
   "outputs": [
    {
     "name": "stderr",
     "output_type": "stream",
     "text": [
      "\r",
      "  0%|                                                                                          | 0/200 [00:00<?, ?it/s]"
     ]
    },
    {
     "name": "stdout",
     "output_type": "stream",
     "text": [
      "Raspando https://machadodeassis.net/texto/a-mao-e-a-luva/1434\n"
     ]
    },
    {
     "name": "stderr",
     "output_type": "stream",
     "text": [
      "\r",
      "  0%|▍                                                                               | 1/200 [00:36<2:02:12, 36.85s/it]"
     ]
    },
    {
     "name": "stdout",
     "output_type": "stream",
     "text": [
      "Sucesso\n",
      "\n",
      "Raspando https://machadodeassis.net/texto/dom-casmurro/11503\n"
     ]
    },
    {
     "name": "stderr",
     "output_type": "stream",
     "text": [
      "\r",
      "  1%|▊                                                                               | 2/200 [01:54<3:20:44, 60.83s/it]"
     ]
    },
    {
     "name": "stdout",
     "output_type": "stream",
     "text": [
      "Sucesso\n",
      "\n",
      "Raspando https://machadodeassis.net/texto/esau-e-jaco/13998\n"
     ]
    },
    {
     "name": "stderr",
     "output_type": "stream",
     "text": [
      "\r",
      "  2%|█▏                                                                              | 3/200 [03:13<3:47:42, 69.35s/it]"
     ]
    },
    {
     "name": "stdout",
     "output_type": "stream",
     "text": [
      "Sucesso\n",
      "\n",
      "Raspando https://machadodeassis.net/texto/helena/2554\n"
     ]
    },
    {
     "name": "stderr",
     "output_type": "stream",
     "text": [
      "\r",
      "  2%|█▌                                                                              | 4/200 [04:20<3:43:29, 68.42s/it]"
     ]
    },
    {
     "name": "stdout",
     "output_type": "stream",
     "text": [
      "Sucesso\n",
      "\n",
      "Raspando https://machadodeassis.net/texto/iaia-garcia/4304\n"
     ]
    },
    {
     "name": "stderr",
     "output_type": "stream",
     "text": [
      "\r",
      "  2%|██                                                                              | 5/200 [05:05<3:14:15, 59.77s/it]"
     ]
    },
    {
     "name": "stdout",
     "output_type": "stream",
     "text": [
      "Sucesso\n",
      "\n",
      "Raspando https://machadodeassis.net/texto/memorial-de-aires/16866\n"
     ]
    },
    {
     "name": "stderr",
     "output_type": "stream",
     "text": [
      "\r",
      "  3%|██▍                                                                             | 6/200 [06:08<3:17:15, 61.01s/it]"
     ]
    },
    {
     "name": "stdout",
     "output_type": "stream",
     "text": [
      "Sucesso\n",
      "\n",
      "Raspando https://machadodeassis.net/texto/memorias-postumas-de-bras-cubas/5985\n"
     ]
    },
    {
     "name": "stderr",
     "output_type": "stream",
     "text": [
      "\r",
      "  4%|██▊                                                                             | 7/200 [07:22<3:29:21, 65.09s/it]"
     ]
    },
    {
     "name": "stdout",
     "output_type": "stream",
     "text": [
      "Sucesso\n",
      "\n",
      "Raspando https://machadodeassis.net/texto/quincas-borba/8340\n"
     ]
    },
    {
     "name": "stderr",
     "output_type": "stream",
     "text": [
      "\r",
      "  4%|███▏                                                                            | 8/200 [08:50<3:52:05, 72.53s/it]"
     ]
    },
    {
     "name": "stdout",
     "output_type": "stream",
     "text": [
      "Sucesso\n",
      "\n",
      "Raspando https://machadodeassis.net/texto/quincas-borba-a-estacao/18790\n"
     ]
    },
    {
     "name": "stderr",
     "output_type": "stream",
     "text": [
      "\r",
      "  4%|███▌                                                                            | 9/200 [11:05<4:53:06, 92.08s/it]"
     ]
    },
    {
     "name": "stdout",
     "output_type": "stream",
     "text": [
      "Sucesso\n",
      "\n",
      "Raspando https://machadodeassis.net/texto/ressurreicao/2\n"
     ]
    },
    {
     "name": "stderr",
     "output_type": "stream",
     "text": [
      "\r",
      "  5%|███▉                                                                           | 10/200 [11:42<3:57:14, 74.92s/it]"
     ]
    },
    {
     "name": "stdout",
     "output_type": "stream",
     "text": [
      "Sucesso\n",
      "\n",
      "Raspando https://machadodeassis.net/texto/a-carteira/56869\n"
     ]
    },
    {
     "name": "stderr",
     "output_type": "stream",
     "text": [
      "\r",
      "  6%|████▎                                                                          | 11/200 [11:54<2:55:14, 55.63s/it]"
     ]
    },
    {
     "name": "stdout",
     "output_type": "stream",
     "text": [
      "Sucesso\n",
      "\n",
      "Raspando https://machadodeassis.net/texto/a-cartomante/30367\n"
     ]
    },
    {
     "name": "stderr",
     "output_type": "stream",
     "text": [
      "\r",
      "  6%|████▋                                                                          | 12/200 [12:06<2:12:46, 42.38s/it]"
     ]
    },
    {
     "name": "stdout",
     "output_type": "stream",
     "text": [
      "Sucesso\n",
      "\n",
      "Raspando https://machadodeassis.net/texto/a-causa-secreta/30782\n"
     ]
    },
    {
     "name": "stderr",
     "output_type": "stream",
     "text": [
      "\r",
      "  6%|█████▏                                                                         | 13/200 [12:18<1:43:33, 33.23s/it]"
     ]
    },
    {
     "name": "stdout",
     "output_type": "stream",
     "text": [
      "Sucesso\n",
      "\n",
      "Raspando https://machadodeassis.net/texto/a-chave/54700\n"
     ]
    },
    {
     "name": "stderr",
     "output_type": "stream",
     "text": [
      "\r",
      "  7%|█████▌                                                                         | 14/200 [12:59<1:49:53, 35.45s/it]"
     ]
    },
    {
     "name": "stdout",
     "output_type": "stream",
     "text": [
      "Sucesso\n",
      "\n",
      "Raspando https://machadodeassis.net/texto/a-chinela-turca/27943\n"
     ]
    },
    {
     "name": "stderr",
     "output_type": "stream",
     "text": [
      "\r",
      "  8%|█████▉                                                                         | 15/200 [13:11<1:27:39, 28.43s/it]"
     ]
    },
    {
     "name": "stdout",
     "output_type": "stream",
     "text": [
      "Sucesso\n",
      "\n",
      "Raspando https://machadodeassis.net/texto/a-desejada-das-gentes/30701\n"
     ]
    },
    {
     "name": "stderr",
     "output_type": "stream",
     "text": [
      "\r",
      "  8%|██████▎                                                                        | 16/200 [13:23<1:12:03, 23.50s/it]"
     ]
    },
    {
     "name": "stdout",
     "output_type": "stream",
     "text": [
      "Sucesso\n",
      "\n",
      "Raspando https://machadodeassis.net/texto/a-heranca/53509\n"
     ]
    },
    {
     "name": "stderr",
     "output_type": "stream",
     "text": [
      "\r",
      "  8%|██████▋                                                                        | 17/200 [13:35<1:01:11, 20.06s/it]"
     ]
    },
    {
     "name": "stdout",
     "output_type": "stream",
     "text": [
      "Sucesso\n",
      "\n",
      "Raspando https://machadodeassis.net/texto/a-ideia-do-ezequiel-maia/56093\n"
     ]
    },
    {
     "name": "stderr",
     "output_type": "stream",
     "text": [
      "\r",
      "  9%|███████▎                                                                         | 18/200 [13:47<53:31, 17.65s/it]"
     ]
    },
    {
     "name": "stdout",
     "output_type": "stream",
     "text": [
      "Sucesso\n",
      "\n",
      "Raspando https://machadodeassis.net/texto/a-igreja-do-diabo/28933\n"
     ]
    },
    {
     "name": "stderr",
     "output_type": "stream",
     "text": [
      "\r",
      " 10%|███████▋                                                                         | 19/200 [14:01<50:08, 16.62s/it]"
     ]
    },
    {
     "name": "stdout",
     "output_type": "stream",
     "text": [
      "Sucesso\n",
      "\n",
      "Raspando https://machadodeassis.net/texto/a-inglesinha-barcelos/60337\n"
     ]
    },
    {
     "name": "stderr",
     "output_type": "stream",
     "text": [
      "\r",
      " 10%|███████▉                                                                       | 20/200 [14:38<1:07:58, 22.66s/it]"
     ]
    },
    {
     "name": "stdout",
     "output_type": "stream",
     "text": [
      "Sucesso\n",
      "\n",
      "Raspando https://machadodeassis.net/texto/a-magoa-do-infeliz-cosme/48290\n"
     ]
    },
    {
     "name": "stderr",
     "output_type": "stream",
     "text": [
      "\r",
      " 10%|████████▎                                                                      | 21/200 [14:54<1:01:37, 20.66s/it]"
     ]
    },
    {
     "name": "stdout",
     "output_type": "stream",
     "text": [
      "Sucesso\n",
      "\n",
      "Raspando https://machadodeassis.net/texto/a-melhor-das-noivas/52683\n"
     ]
    },
    {
     "name": "stderr",
     "output_type": "stream",
     "text": [
      "\r",
      " 11%|████████▉                                                                        | 22/200 [15:06<54:09, 18.26s/it]"
     ]
    },
    {
     "name": "stdout",
     "output_type": "stream",
     "text": [
      "Sucesso\n",
      "\n",
      "Raspando https://machadodeassis.net/texto/a-mulher-de-preto/22849\n"
     ]
    },
    {
     "name": "stderr",
     "output_type": "stream",
     "text": [
      "\r",
      " 12%|█████████▎                                                                       | 23/200 [15:27<55:49, 18.92s/it]"
     ]
    },
    {
     "name": "stdout",
     "output_type": "stream",
     "text": [
      "Sucesso\n",
      "\n",
      "Raspando https://machadodeassis.net/texto/a-mulher-palida/55236\n"
     ]
    },
    {
     "name": "stderr",
     "output_type": "stream",
     "text": [
      "\r",
      " 12%|█████████▋                                                                       | 24/200 [15:41<51:13, 17.46s/it]"
     ]
    },
    {
     "name": "stdout",
     "output_type": "stream",
     "text": [
      "Sucesso\n",
      "\n",
      "Raspando https://machadodeassis.net/texto/a-parasita-azul/25537\n"
     ]
    },
    {
     "name": "stderr",
     "output_type": "stream",
     "text": [
      "\r",
      " 12%|██████████▏                                                                      | 25/200 [16:03<54:59, 18.86s/it]"
     ]
    },
    {
     "name": "stdout",
     "output_type": "stream",
     "text": [
      "Sucesso\n",
      "\n",
      "Raspando https://machadodeassis.net/texto/a-pianista/36150\n"
     ]
    },
    {
     "name": "stderr",
     "output_type": "stream",
     "text": [
      "\r",
      " 13%|██████████▎                                                                    | 26/200 [16:40<1:10:47, 24.41s/it]"
     ]
    },
    {
     "name": "stdout",
     "output_type": "stream",
     "text": [
      "Sucesso\n",
      "\n",
      "Raspando https://machadodeassis.net/texto/a-segunda-vida/29867\n"
     ]
    },
    {
     "name": "stderr",
     "output_type": "stream",
     "text": [
      "\r",
      " 14%|██████████▋                                                                    | 27/200 [16:53<1:00:02, 20.82s/it]"
     ]
    },
    {
     "name": "stdout",
     "output_type": "stream",
     "text": [
      "Sucesso\n",
      "\n",
      "Raspando https://machadodeassis.net/texto/a-senhora-do-galvao/30179\n"
     ]
    },
    {
     "name": "stderr",
     "output_type": "stream",
     "text": [
      "\r",
      " 14%|███████████▎                                                                     | 28/200 [17:05<52:09, 18.20s/it]"
     ]
    },
    {
     "name": "stdout",
     "output_type": "stream",
     "text": [
      "Sucesso\n",
      "\n",
      "Raspando https://machadodeassis.net/texto/a-serenissima-republica/28599\n"
     ]
    },
    {
     "name": "stderr",
     "output_type": "stream",
     "text": [
      "\r",
      " 14%|███████████▋                                                                     | 29/200 [17:17<46:42, 16.39s/it]"
     ]
    },
    {
     "name": "stdout",
     "output_type": "stream",
     "text": [
      "Sucesso\n",
      "\n",
      "Raspando https://machadodeassis.net/texto/a-ultima-receita/48483\n"
     ]
    },
    {
     "name": "stderr",
     "output_type": "stream",
     "text": [
      "\r",
      " 15%|████████████▏                                                                    | 30/200 [17:29<42:54, 15.14s/it]"
     ]
    },
    {
     "name": "stdout",
     "output_type": "stream",
     "text": [
      "Sucesso\n",
      "\n",
      "Raspando https://machadodeassis.net/texto/a-viuva-sobral/57064\n"
     ]
    },
    {
     "name": "stderr",
     "output_type": "stream",
     "text": [
      "\r",
      " 16%|████████████▌                                                                    | 31/200 [17:42<40:11, 14.27s/it]"
     ]
    },
    {
     "name": "stdout",
     "output_type": "stream",
     "text": [
      "Sucesso\n",
      "\n",
      "Raspando https://machadodeassis.net/texto/adao-e-eva/30980\n"
     ]
    },
    {
     "name": "stderr",
     "output_type": "stream",
     "text": [
      "\r",
      " 16%|████████████▉                                                                    | 32/200 [18:18<58:49, 21.01s/it]"
     ]
    },
    {
     "name": "stdout",
     "output_type": "stream",
     "text": [
      "Sucesso\n",
      "\n",
      "Raspando https://machadodeassis.net/texto/aires-e-vergueiro/39642\n"
     ]
    },
    {
     "name": "stderr",
     "output_type": "stream",
     "text": [
      "\r",
      " 16%|█████████████▎                                                                   | 33/200 [18:30<51:01, 18.33s/it]"
     ]
    },
    {
     "name": "stdout",
     "output_type": "stream",
     "text": [
      "Sucesso\n",
      "\n",
      "Raspando https://machadodeassis.net/texto/almas-agradecidas/40352\n"
     ]
    },
    {
     "name": "stderr",
     "output_type": "stream",
     "text": [
      "\r",
      " 17%|█████████████▊                                                                   | 34/200 [18:49<50:31, 18.26s/it]"
     ]
    },
    {
     "name": "stdout",
     "output_type": "stream",
     "text": [
      "Sucesso\n",
      "\n",
      "Raspando https://machadodeassis.net/texto/anedota-do-cabriolet/33306\n"
     ]
    },
    {
     "name": "stderr",
     "output_type": "stream",
     "text": [
      "\r",
      " 18%|██████████████▏                                                                  | 35/200 [19:01<45:22, 16.50s/it]"
     ]
    },
    {
     "name": "stdout",
     "output_type": "stream",
     "text": [
      "Sucesso\n",
      "\n",
      "Raspando https://machadodeassis.net/texto/anedota-pecuniaria/29712\n"
     ]
    },
    {
     "name": "stderr",
     "output_type": "stream",
     "text": [
      "\r",
      " 18%|██████████████▌                                                                  | 36/200 [19:13<41:38, 15.23s/it]"
     ]
    },
    {
     "name": "stdout",
     "output_type": "stream",
     "text": [
      "Sucesso\n",
      "\n",
      "Raspando https://machadodeassis.net/texto/antes-que-cases/47573\n"
     ]
    },
    {
     "name": "stderr",
     "output_type": "stream",
     "text": [
      "\r",
      " 18%|██████████████▉                                                                  | 37/200 [19:32<44:07, 16.24s/it]"
     ]
    },
    {
     "name": "stdout",
     "output_type": "stream",
     "text": [
      "Sucesso\n",
      "\n",
      "Raspando https://machadodeassis.net/texto/as-academias-de-siao/30261\n"
     ]
    },
    {
     "name": "stderr",
     "output_type": "stream",
     "text": [
      "\r",
      " 19%|███████████████                                                                | 38/200 [20:09<1:00:29, 22.40s/it]"
     ]
    },
    {
     "name": "stdout",
     "output_type": "stream",
     "text": [
      "Sucesso\n",
      "\n",
      "Raspando https://machadodeassis.net/texto/as-bodas-de-luis-duarte/26124\n"
     ]
    },
    {
     "name": "stderr",
     "output_type": "stream",
     "text": [
      "\r",
      " 20%|███████████████▊                                                                 | 39/200 [20:21<51:59, 19.38s/it]"
     ]
    },
    {
     "name": "stdout",
     "output_type": "stream",
     "text": [
      "Sucesso\n",
      "\n",
      "Raspando https://machadodeassis.net/texto/astucias-de-marido/36560\n"
     ]
    },
    {
     "name": "stderr",
     "output_type": "stream",
     "text": [
      "\r",
      " 20%|████████████████▏                                                                | 40/200 [20:37<48:58, 18.37s/it]"
     ]
    },
    {
     "name": "stdout",
     "output_type": "stream",
     "text": [
      "Sucesso\n",
      "\n",
      "Raspando https://machadodeassis.net/texto/aurora-sem-dia/26691\n"
     ]
    },
    {
     "name": "stderr",
     "output_type": "stream",
     "text": [
      "\r",
      " 20%|████████████████▌                                                                | 41/200 [20:49<43:55, 16.57s/it]"
     ]
    },
    {
     "name": "stdout",
     "output_type": "stream",
     "text": [
      "Sucesso\n",
      "\n",
      "Raspando https://machadodeassis.net/texto/brincar-com-fogo/48086\n"
     ]
    },
    {
     "name": "stderr",
     "output_type": "stream",
     "text": [
      "\r",
      " 21%|█████████████████                                                                | 42/200 [21:03<41:46, 15.87s/it]"
     ]
    },
    {
     "name": "stdout",
     "output_type": "stream",
     "text": [
      "Sucesso\n",
      "\n",
      "Raspando https://machadodeassis.net/texto/cantiga-de-esponsais/29145\n"
     ]
    },
    {
     "name": "stderr",
     "output_type": "stream",
     "text": [
      "\r",
      " 22%|█████████████████▍                                                               | 43/200 [21:16<38:34, 14.74s/it]"
     ]
    },
    {
     "name": "stdout",
     "output_type": "stream",
     "text": [
      "Sucesso\n",
      "\n",
      "Raspando https://machadodeassis.net/texto/cantiga-velha/56608\n",
      "Sucesso\n",
      "\n"
     ]
    },
    {
     "name": "stderr",
     "output_type": "stream",
     "text": [
      "\r",
      " 22%|█████████████████▊                                                               | 44/200 [21:39<37:48, 14.54s/it]"
     ]
    },
    {
     "name": "stdout",
     "output_type": "stream",
     "text": [
      "Raspando https://machadodeassis.net/texto/capitulo-dos-chapeus/29341\n"
     ]
    },
    {
     "name": "stderr",
     "output_type": "stream",
     "text": [
      "\r",
      " 22%|██████████████████▏                                                              | 45/200 [21:51<42:34, 16.48s/it]"
     ]
    },
    {
     "name": "stdout",
     "output_type": "stream",
     "text": [
      "Sucesso\n",
      "\n",
      "Raspando https://machadodeassis.net/texto/casa-velha/57705\n"
     ]
    },
    {
     "name": "stderr",
     "output_type": "stream",
     "text": [
      "\r",
      " 23%|██████████████████▋                                                              | 46/200 [22:17<49:48, 19.40s/it]"
     ]
    },
    {
     "name": "stdout",
     "output_type": "stream",
     "text": [
      "Sucesso\n",
      "\n",
      "Raspando https://machadodeassis.net/texto/casa-nao-casa/49360\n"
     ]
    },
    {
     "name": "stderr",
     "output_type": "stream",
     "text": [
      "\r",
      " 24%|███████████████████                                                              | 47/200 [22:33<47:18, 18.55s/it]"
     ]
    },
    {
     "name": "stdout",
     "output_type": "stream",
     "text": [
      "Sucesso\n",
      "\n",
      "Raspando https://machadodeassis.net/texto/casada-e-viuva/34143\n"
     ]
    },
    {
     "name": "stderr",
     "output_type": "stream",
     "text": [
      "\r",
      " 24%|███████████████████▍                                                             | 48/200 [22:48<43:43, 17.26s/it]"
     ]
    },
    {
     "name": "stdout",
     "output_type": "stream",
     "text": [
      "Sucesso\n",
      "\n",
      "Raspando https://machadodeassis.net/texto/cinco-mulheres/35142\n"
     ]
    },
    {
     "name": "stderr",
     "output_type": "stream",
     "text": [
      "\r",
      " 24%|███████████████████▊                                                             | 49/200 [23:04<42:39, 16.95s/it]"
     ]
    },
    {
     "name": "stdout",
     "output_type": "stream",
     "text": [
      "Sucesso\n",
      "\n",
      "Raspando https://machadodeassis.net/texto/como-se-inventaram-os-almanaques/59168\n"
     ]
    },
    {
     "name": "stderr",
     "output_type": "stream",
     "text": [
      "\r",
      " 25%|███████████████████▊                                                           | 50/200 [23:45<1:00:28, 24.19s/it]"
     ]
    },
    {
     "name": "stdout",
     "output_type": "stream",
     "text": [
      "Sucesso\n",
      "\n",
      "Raspando https://machadodeassis.net/texto/confissoes-de-uma-viuva-moca/23960\n"
     ]
    },
    {
     "name": "stderr",
     "output_type": "stream",
     "text": [
      "\r",
      " 26%|████████████████████▋                                                            | 51/200 [24:02<54:28, 21.93s/it]"
     ]
    },
    {
     "name": "stdout",
     "output_type": "stream",
     "text": [
      "Sucesso\n",
      "\n",
      "Raspando https://machadodeassis.net/texto/conto-alexandrino/29481\n"
     ]
    },
    {
     "name": "stderr",
     "output_type": "stream",
     "text": [
      "\r",
      " 26%|█████████████████████                                                            | 52/200 [24:16<48:25, 19.63s/it]"
     ]
    },
    {
     "name": "stdout",
     "output_type": "stream",
     "text": [
      "Sucesso\n",
      "\n",
      "Raspando https://machadodeassis.net/texto/conto-de-escola/31326\n"
     ]
    },
    {
     "name": "stderr",
     "output_type": "stream",
     "text": [
      "\r",
      " 26%|█████████████████████▍                                                           | 53/200 [24:28<42:24, 17.31s/it]"
     ]
    },
    {
     "name": "stdout",
     "output_type": "stream",
     "text": [
      "Sucesso\n",
      "\n",
      "Raspando https://machadodeassis.net/texto/conversao-de-um-avaro/53632\n"
     ]
    },
    {
     "name": "stderr",
     "output_type": "stream",
     "text": [
      "\r",
      " 27%|█████████████████████▊                                                           | 54/200 [24:40<38:38, 15.88s/it]"
     ]
    },
    {
     "name": "stdout",
     "output_type": "stream",
     "text": [
      "Sucesso\n",
      "\n",
      "Raspando https://machadodeassis.net/texto/curta-historia/58657\n"
     ]
    },
    {
     "name": "stderr",
     "output_type": "stream",
     "text": [
      "\r",
      " 28%|██████████████████████▎                                                          | 55/200 [24:52<35:33, 14.71s/it]"
     ]
    },
    {
     "name": "stdout",
     "output_type": "stream",
     "text": [
      "Sucesso\n",
      "\n",
      "Raspando https://machadodeassis.net/texto/decadencia-de-dois-grandes-homens/44443\n"
     ]
    },
    {
     "name": "stderr",
     "output_type": "stream",
     "text": [
      "\r",
      " 28%|██████████████████████▋                                                          | 56/200 [25:29<51:25, 21.43s/it]"
     ]
    },
    {
     "name": "stdout",
     "output_type": "stream",
     "text": [
      "Sucesso\n",
      "\n",
      "Raspando https://machadodeassis.net/texto/divida-extinta/54004\n"
     ]
    },
    {
     "name": "stderr",
     "output_type": "stream",
     "text": [
      "\r",
      " 28%|███████████████████████                                                          | 57/200 [25:46<47:19, 19.85s/it]"
     ]
    },
    {
     "name": "stdout",
     "output_type": "stream",
     "text": [
      "Sucesso\n",
      "\n",
      "Raspando https://machadodeassis.net/texto/dona-benedita/28160\n"
     ]
    },
    {
     "name": "stderr",
     "output_type": "stream",
     "text": [
      "\r",
      " 29%|███████████████████████▍                                                         | 58/200 [26:02<44:20, 18.74s/it]"
     ]
    },
    {
     "name": "stdout",
     "output_type": "stream",
     "text": [
      "Sucesso\n",
      "\n",
      "Raspando https://machadodeassis.net/texto/dona-jucunda/59051\n"
     ]
    },
    {
     "name": "stderr",
     "output_type": "stream",
     "text": [
      "\r",
      " 30%|███████████████████████▉                                                         | 59/200 [26:16<40:45, 17.34s/it]"
     ]
    },
    {
     "name": "stdout",
     "output_type": "stream",
     "text": [
      "Sucesso\n",
      "\n",
      "Raspando https://machadodeassis.net/texto/dona-monica/51254\n"
     ]
    },
    {
     "name": "stderr",
     "output_type": "stream",
     "text": [
      "\r",
      " 30%|████████████████████████▎                                                        | 60/200 [26:32<39:38, 16.99s/it]"
     ]
    },
    {
     "name": "stdout",
     "output_type": "stream",
     "text": [
      "Sucesso\n",
      "\n",
      "Raspando https://machadodeassis.net/texto/dona-paula/31453\n"
     ]
    },
    {
     "name": "stderr",
     "output_type": "stream",
     "text": [
      "\r",
      " 30%|████████████████████████▋                                                        | 61/200 [26:44<35:51, 15.48s/it]"
     ]
    },
    {
     "name": "stdout",
     "output_type": "stream",
     "text": [
      "Sucesso\n",
      "\n",
      "Raspando https://machadodeassis.net/texto/encher-tempo/50573\n"
     ]
    },
    {
     "name": "stderr",
     "output_type": "stream",
     "text": [
      "\r",
      " 31%|█████████████████████████                                                        | 62/200 [27:29<55:41, 24.21s/it]"
     ]
    },
    {
     "name": "stdout",
     "output_type": "stream",
     "text": [
      "Sucesso\n",
      "\n",
      "Raspando https://machadodeassis.net/texto/entre-duas-datas/57192\n"
     ]
    },
    {
     "name": "stderr",
     "output_type": "stream",
     "text": [
      "\r",
      " 32%|█████████████████████████▌                                                       | 63/200 [27:41<47:00, 20.58s/it]"
     ]
    },
    {
     "name": "stdout",
     "output_type": "stream",
     "text": [
      "Sucesso\n",
      "\n",
      "Raspando https://machadodeassis.net/texto/entre-santos/30452\n"
     ]
    },
    {
     "name": "stderr",
     "output_type": "stream",
     "text": [
      "\r",
      " 32%|█████████████████████████▉                                                       | 64/200 [27:53<40:51, 18.03s/it]"
     ]
    },
    {
     "name": "stdout",
     "output_type": "stream",
     "text": [
      "Sucesso\n",
      "\n",
      "Raspando https://machadodeassis.net/texto/ernesto-de-tal/26362\n"
     ]
    },
    {
     "name": "stderr",
     "output_type": "stream",
     "text": [
      "\r",
      " 32%|██████████████████████████▎                                                      | 65/200 [28:09<39:20, 17.48s/it]"
     ]
    },
    {
     "name": "stdout",
     "output_type": "stream",
     "text": [
      "Sucesso\n",
      "\n",
      "Raspando https://machadodeassis.net/texto/eterno/32064\n"
     ]
    },
    {
     "name": "stderr",
     "output_type": "stream",
     "text": [
      "\r",
      " 33%|██████████████████████████▋                                                      | 66/200 [28:21<35:21, 15.83s/it]"
     ]
    },
    {
     "name": "stdout",
     "output_type": "stream",
     "text": [
      "Sucesso\n",
      "\n",
      "Raspando https://machadodeassis.net/texto/evolucao/33121\n"
     ]
    },
    {
     "name": "stderr",
     "output_type": "stream",
     "text": [
      "\r",
      " 34%|███████████████████████████▏                                                     | 67/200 [28:33<32:39, 14.73s/it]"
     ]
    },
    {
     "name": "stdout",
     "output_type": "stream",
     "text": [
      "Sucesso\n",
      "\n",
      "Raspando https://machadodeassis.net/texto/ex-cathedra/30104\n"
     ]
    },
    {
     "name": "stderr",
     "output_type": "stream",
     "text": [
      "\r",
      " 34%|███████████████████████████▌                                                     | 68/200 [29:10<46:47, 21.27s/it]"
     ]
    },
    {
     "name": "stdout",
     "output_type": "stream",
     "text": [
      "Sucesso\n",
      "\n",
      "Raspando https://machadodeassis.net/texto/flor-anonima/60482\n"
     ]
    },
    {
     "name": "stderr",
     "output_type": "stream",
     "text": [
      "\r",
      " 34%|███████████████████████████▉                                                     | 69/200 [29:22<40:24, 18.51s/it]"
     ]
    },
    {
     "name": "stdout",
     "output_type": "stream",
     "text": [
      "Sucesso\n",
      "\n",
      "Raspando https://machadodeassis.net/texto/folha-rota/53884\n"
     ]
    },
    {
     "name": "stderr",
     "output_type": "stream",
     "text": [
      "\r",
      " 35%|████████████████████████████▎                                                    | 70/200 [29:34<35:56, 16.58s/it]"
     ]
    },
    {
     "name": "stdout",
     "output_type": "stream",
     "text": [
      "Sucesso\n",
      "\n",
      "Raspando https://machadodeassis.net/texto/frei-simao/25425\n"
     ]
    },
    {
     "name": "stderr",
     "output_type": "stream",
     "text": [
      "\r",
      " 36%|████████████████████████████▊                                                    | 71/200 [29:48<34:06, 15.87s/it]"
     ]
    },
    {
     "name": "stdout",
     "output_type": "stream",
     "text": [
      "Sucesso\n",
      "\n",
      "Raspando https://machadodeassis.net/texto/fulano/29803\n"
     ]
    },
    {
     "name": "stderr",
     "output_type": "stream",
     "text": [
      "\r",
      " 36%|█████████████████████████████▏                                                   | 72/200 [30:00<31:19, 14.68s/it]"
     ]
    },
    {
     "name": "stdout",
     "output_type": "stream",
     "text": [
      "Sucesso\n",
      "\n",
      "Raspando https://machadodeassis.net/texto/galeria-postuma/29278\n"
     ]
    },
    {
     "name": "stderr",
     "output_type": "stream",
     "text": [
      "\r",
      " 36%|█████████████████████████████▌                                                   | 73/200 [30:12<29:23, 13.89s/it]"
     ]
    },
    {
     "name": "stdout",
     "output_type": "stream",
     "text": [
      "Sucesso\n",
      "\n",
      "Raspando https://machadodeassis.net/texto/habilidoso/58393\n"
     ]
    },
    {
     "name": "stderr",
     "output_type": "stream",
     "text": [
      "\r",
      " 37%|█████████████████████████████▉                                                   | 74/200 [30:49<43:28, 20.70s/it]"
     ]
    },
    {
     "name": "stdout",
     "output_type": "stream",
     "text": [
      "Sucesso\n",
      "\n",
      "Raspando https://machadodeassis.net/texto/historia-comum/56145\n"
     ]
    },
    {
     "name": "stderr",
     "output_type": "stream",
     "text": [
      "\r",
      " 38%|██████████████████████████████▍                                                  | 75/200 [31:01<37:41, 18.09s/it]"
     ]
    },
    {
     "name": "stdout",
     "output_type": "stream",
     "text": [
      "Sucesso\n",
      "\n",
      "Raspando https://machadodeassis.net/texto/historia-de-uma-fita-azul/49645\n"
     ]
    },
    {
     "name": "stderr",
     "output_type": "stream",
     "text": [
      "\r",
      " 38%|██████████████████████████████▊                                                  | 76/200 [31:17<36:12, 17.52s/it]"
     ]
    },
    {
     "name": "stdout",
     "output_type": "stream",
     "text": [
      "Sucesso\n",
      "\n",
      "Raspando https://machadodeassis.net/texto/ideias-de-canario/32285\n"
     ]
    },
    {
     "name": "stderr",
     "output_type": "stream",
     "text": [
      "\r",
      " 38%|███████████████████████████████▏                                                 | 77/200 [31:29<32:32, 15.87s/it]"
     ]
    },
    {
     "name": "stdout",
     "output_type": "stream",
     "text": [
      "Sucesso\n",
      "\n",
      "Raspando https://machadodeassis.net/texto/identidade/58822\n"
     ]
    },
    {
     "name": "stderr",
     "output_type": "stream",
     "text": [
      "\r",
      " 39%|███████████████████████████████▌                                                 | 78/200 [31:41<29:57, 14.73s/it]"
     ]
    },
    {
     "name": "stdout",
     "output_type": "stream",
     "text": [
      "Sucesso\n",
      "\n",
      "Raspando https://machadodeassis.net/texto/joao-fernandes/60283\n"
     ]
    },
    {
     "name": "stderr",
     "output_type": "stream",
     "text": [
      "\r",
      " 40%|███████████████████████████████▉                                                 | 79/200 [31:53<28:03, 13.92s/it]"
     ]
    },
    {
     "name": "stdout",
     "output_type": "stream",
     "text": [
      "Sucesso\n",
      "\n",
      "Raspando https://machadodeassis.net/texto/jogo-do-bicho/60679\n"
     ]
    },
    {
     "name": "stderr",
     "output_type": "stream",
     "text": [
      "\r",
      " 40%|████████████████████████████████▍                                                | 80/200 [32:29<41:13, 20.61s/it]"
     ]
    },
    {
     "name": "stdout",
     "output_type": "stream",
     "text": [
      "Sucesso\n",
      "\n",
      "Raspando https://machadodeassis.net/texto/lagrimas-de-xerxes/32333\n"
     ]
    },
    {
     "name": "stderr",
     "output_type": "stream",
     "text": [
      "\r",
      " 40%|████████████████████████████████▊                                                | 81/200 [32:41<35:45, 18.03s/it]"
     ]
    },
    {
     "name": "stdout",
     "output_type": "stream",
     "text": [
      "Sucesso\n",
      "\n",
      "Raspando https://machadodeassis.net/texto/letra-vencida/55702\n"
     ]
    },
    {
     "name": "stderr",
     "output_type": "stream",
     "text": [
      "\r",
      " 41%|█████████████████████████████████▏                                               | 82/200 [32:55<33:03, 16.81s/it]"
     ]
    },
    {
     "name": "stdout",
     "output_type": "stream",
     "text": [
      "Sucesso\n",
      "\n",
      "Raspando https://machadodeassis.net/texto/linha-reta-e-linha-curva/24414\n"
     ]
    },
    {
     "name": "stderr",
     "output_type": "stream",
     "text": [
      "\r",
      " 42%|█████████████████████████████████▌                                               | 83/200 [33:14<33:48, 17.33s/it]"
     ]
    },
    {
     "name": "stdout",
     "output_type": "stream",
     "text": [
      "Sucesso\n",
      "\n",
      "Raspando https://machadodeassis.net/texto/longe-dos-olhos/50298\n"
     ]
    },
    {
     "name": "stderr",
     "output_type": "stream",
     "text": [
      "\r",
      " 42%|██████████████████████████████████                                               | 84/200 [33:28<31:41, 16.39s/it]"
     ]
    },
    {
     "name": "stdout",
     "output_type": "stream",
     "text": [
      "Sucesso\n",
      "\n",
      "Raspando https://machadodeassis.net/texto/luis-soares/22463\n"
     ]
    },
    {
     "name": "stderr",
     "output_type": "stream",
     "text": [
      "\r",
      " 42%|██████████████████████████████████▍                                              | 85/200 [33:44<31:26, 16.41s/it]"
     ]
    },
    {
     "name": "stdout",
     "output_type": "stream",
     "text": [
      "Sucesso\n",
      "\n",
      "Raspando https://machadodeassis.net/texto/manuscrito-de-um-sacristao/30015\n"
     ]
    },
    {
     "name": "stderr",
     "output_type": "stream",
     "text": [
      "\r",
      " 43%|██████████████████████████████████▊                                              | 86/200 [34:21<42:39, 22.45s/it]"
     ]
    },
    {
     "name": "stdout",
     "output_type": "stream",
     "text": [
      "Sucesso\n",
      "\n",
      "Raspando https://machadodeassis.net/texto/marcha-funebre/32805\n"
     ]
    },
    {
     "name": "stderr",
     "output_type": "stream",
     "text": [
      "\r",
      " 44%|███████████████████████████████████▏                                             | 87/200 [34:33<36:24, 19.33s/it]"
     ]
    },
    {
     "name": "stdout",
     "output_type": "stream",
     "text": [
      "Sucesso\n",
      "\n",
      "Raspando https://machadodeassis.net/texto/maria-cora/32598\n"
     ]
    },
    {
     "name": "stderr",
     "output_type": "stream",
     "text": [
      "\r",
      " 44%|███████████████████████████████████▋                                             | 88/200 [34:49<34:24, 18.44s/it]"
     ]
    },
    {
     "name": "stdout",
     "output_type": "stream",
     "text": [
      "Sucesso\n",
      "\n",
      "Raspando https://machadodeassis.net/texto/mariana/39389\n"
     ]
    },
    {
     "name": "stderr",
     "output_type": "stream",
     "text": [
      "\r",
      " 44%|████████████████████████████████████                                             | 89/200 [35:02<30:59, 16.75s/it]"
     ]
    },
    {
     "name": "stdout",
     "output_type": "stream",
     "text": [
      "Sucesso\n",
      "\n",
      "Raspando https://machadodeassis.net/texto/mariana/31230\n"
     ]
    },
    {
     "name": "stderr",
     "output_type": "stream",
     "text": [
      "\r",
      " 45%|████████████████████████████████████▍                                            | 90/200 [35:16<29:19, 16.00s/it]"
     ]
    },
    {
     "name": "stdout",
     "output_type": "stream",
     "text": [
      "Sucesso\n",
      "\n",
      "Raspando https://machadodeassis.net/texto/medico-e-remedio/56523\n"
     ]
    },
    {
     "name": "stderr",
     "output_type": "stream",
     "text": [
      "\r",
      " 46%|████████████████████████████████████▊                                            | 91/200 [35:28<26:57, 14.84s/it]"
     ]
    },
    {
     "name": "stdout",
     "output_type": "stream",
     "text": [
      "Sucesso\n",
      "\n",
      "Raspando https://machadodeassis.net/texto/miloca/46928\n"
     ]
    },
    {
     "name": "stderr",
     "output_type": "stream",
     "text": [
      "\r",
      " 46%|█████████████████████████████████████▎                                           | 92/200 [36:09<40:42, 22.61s/it]"
     ]
    },
    {
     "name": "stdout",
     "output_type": "stream",
     "text": [
      "Sucesso\n",
      "\n",
      "Raspando https://machadodeassis.net/texto/miss-dollar/22123\n"
     ]
    },
    {
     "name": "stderr",
     "output_type": "stream",
     "text": [
      "\r",
      " 46%|█████████████████████████████████████▋                                           | 93/200 [36:27<37:38, 21.10s/it]"
     ]
    },
    {
     "name": "stdout",
     "output_type": "stream",
     "text": [
      "Sucesso\n",
      "\n",
      "Raspando https://machadodeassis.net/texto/missa-do-galo/32191\n"
     ]
    },
    {
     "name": "stderr",
     "output_type": "stream",
     "text": [
      "\r",
      " 47%|██████████████████████████████████████                                           | 94/200 [36:39<32:34, 18.44s/it]"
     ]
    },
    {
     "name": "stdout",
     "output_type": "stream",
     "text": [
      "Sucesso\n",
      "\n",
      "Raspando https://machadodeassis.net/texto/muitos-anos-depois/46593\n"
     ]
    },
    {
     "name": "stderr",
     "output_type": "stream",
     "text": [
      "\r",
      " 48%|██████████████████████████████████████▍                                          | 95/200 [36:57<32:03, 18.32s/it]"
     ]
    },
    {
     "name": "stdout",
     "output_type": "stream",
     "text": [
      "Sucesso\n",
      "\n",
      "Raspando https://machadodeassis.net/texto/na-arca/28059\n"
     ]
    },
    {
     "name": "stderr",
     "output_type": "stream",
     "text": [
      "\r",
      " 48%|██████████████████████████████████████▉                                          | 96/200 [37:09<28:32, 16.47s/it]"
     ]
    },
    {
     "name": "stdout",
     "output_type": "stream",
     "text": [
      "Sucesso\n",
      "\n",
      "Raspando https://machadodeassis.net/texto/nao-e-o-mel-para-a-boca-do-asno/37279\n"
     ]
    },
    {
     "name": "stderr",
     "output_type": "stream",
     "text": [
      "\r",
      " 48%|███████████████████████████████████████▎                                         | 97/200 [37:25<28:10, 16.41s/it]"
     ]
    },
    {
     "name": "stdout",
     "output_type": "stream",
     "text": [
      "Sucesso\n",
      "\n",
      "Raspando https://machadodeassis.net/texto/nem-uma-nem-outra/44963\n",
      "Sucesso\n",
      "\n"
     ]
    },
    {
     "name": "stderr",
     "output_type": "stream",
     "text": [
      "\r",
      " 49%|███████████████████████████████████████▋                                         | 98/200 [37:54<31:03, 18.27s/it]"
     ]
    },
    {
     "name": "stdout",
     "output_type": "stream",
     "text": [
      "Raspando https://machadodeassis.net/texto/noite-de-almirante/29931\n"
     ]
    },
    {
     "name": "stderr",
     "output_type": "stream",
     "text": [
      "\r",
      " 50%|████████████████████████████████████████                                         | 99/200 [38:06<30:42, 18.24s/it]"
     ]
    },
    {
     "name": "stdout",
     "output_type": "stream",
     "text": [
      "Sucesso\n",
      "\n",
      "Raspando https://machadodeassis.net/texto/o-alienista/27353\n"
     ]
    },
    {
     "name": "stderr",
     "output_type": "stream",
     "text": [
      "\r",
      " 50%|████████████████████████████████████████                                        | 100/200 [38:30<33:25, 20.06s/it]"
     ]
    },
    {
     "name": "stdout",
     "output_type": "stream",
     "text": [
      "Sucesso\n",
      "\n",
      "Raspando https://machadodeassis.net/texto/o-anel-de-policrates/28415\n"
     ]
    },
    {
     "name": "stderr",
     "output_type": "stream",
     "text": [
      "\r",
      " 50%|████████████████████████████████████████▍                                       | 101/200 [38:43<29:10, 17.68s/it]"
     ]
    },
    {
     "name": "stdout",
     "output_type": "stream",
     "text": [
      "Sucesso\n",
      "\n",
      "Raspando https://machadodeassis.net/texto/o-anjo-das-donzelas/33852\n"
     ]
    },
    {
     "name": "stderr",
     "output_type": "stream",
     "text": [
      "\r",
      " 51%|████████████████████████████████████████▊                                       | 102/200 [38:55<26:19, 16.12s/it]"
     ]
    },
    {
     "name": "stdout",
     "output_type": "stream",
     "text": [
      "Sucesso\n",
      "\n",
      "Raspando https://machadodeassis.net/texto/o-anjo-rafael/37996\n"
     ]
    },
    {
     "name": "stderr",
     "output_type": "stream",
     "text": [
      "\r",
      " 52%|█████████████████████████████████████████▏                                      | 103/200 [39:17<29:01, 17.95s/it]"
     ]
    },
    {
     "name": "stdout",
     "output_type": "stream",
     "text": [
      "Sucesso\n",
      "\n",
      "Raspando https://machadodeassis.net/texto/o-astrologo/51660\n"
     ]
    },
    {
     "name": "stderr",
     "output_type": "stream",
     "text": [
      "\r",
      " 52%|█████████████████████████████████████████▌                                      | 104/200 [39:54<37:44, 23.59s/it]"
     ]
    },
    {
     "name": "stdout",
     "output_type": "stream",
     "text": [
      "Sucesso\n",
      "\n",
      "Raspando https://machadodeassis.net/texto/o-caminho-de-damasco/39803\n"
     ]
    },
    {
     "name": "stderr",
     "output_type": "stream",
     "text": [
      "\r",
      " 52%|██████████████████████████████████████████                                      | 105/200 [40:12<34:47, 21.97s/it]"
     ]
    },
    {
     "name": "stdout",
     "output_type": "stream",
     "text": [
      "Sucesso\n",
      "\n",
      "Raspando https://machadodeassis.net/texto/o-capitao-mendonca/38709\n"
     ]
    },
    {
     "name": "stderr",
     "output_type": "stream",
     "text": [
      "\r",
      " 53%|██████████████████████████████████████████▍                                     | 106/200 [40:28<31:41, 20.23s/it]"
     ]
    },
    {
     "name": "stdout",
     "output_type": "stream",
     "text": [
      "Sucesso\n",
      "\n",
      "Raspando https://machadodeassis.net/texto/o-carro-numero-13/37720\n"
     ]
    },
    {
     "name": "stderr",
     "output_type": "stream",
     "text": [
      "\r",
      " 54%|██████████████████████████████████████████▊                                     | 107/200 [40:44<29:23, 18.97s/it]"
     ]
    },
    {
     "name": "stdout",
     "output_type": "stream",
     "text": [
      "Sucesso\n",
      "\n",
      "Raspando https://machadodeassis.net/texto/o-caso-barreto/59411\n"
     ]
    },
    {
     "name": "stderr",
     "output_type": "stream",
     "text": [
      "\r",
      " 54%|███████████████████████████████████████████▏                                    | 108/200 [40:57<26:00, 16.96s/it]"
     ]
    },
    {
     "name": "stdout",
     "output_type": "stream",
     "text": [
      "Sucesso\n",
      "\n",
      "Raspando https://machadodeassis.net/texto/o-caso-da-vara/31723\n"
     ]
    },
    {
     "name": "stderr",
     "output_type": "stream",
     "text": [
      "\r",
      " 55%|███████████████████████████████████████████▌                                    | 109/200 [41:09<23:28, 15.47s/it]"
     ]
    },
    {
     "name": "stdout",
     "output_type": "stream",
     "text": [
      "Sucesso\n",
      "\n",
      "Raspando https://machadodeassis.net/texto/o-caso-da-viuva/55009\n"
     ]
    },
    {
     "name": "stderr",
     "output_type": "stream",
     "text": [
      "\r",
      " 55%|████████████████████████████████████████████                                    | 110/200 [41:50<34:36, 23.07s/it]"
     ]
    },
    {
     "name": "stdout",
     "output_type": "stream",
     "text": [
      "Sucesso\n",
      "\n",
      "Raspando https://machadodeassis.net/texto/o-caso-do-romualdo/57374\n"
     ]
    },
    {
     "name": "stderr",
     "output_type": "stream",
     "text": [
      "\r",
      " 56%|████████████████████████████████████████████▍                                   | 111/200 [42:02<29:25, 19.84s/it]"
     ]
    },
    {
     "name": "stdout",
     "output_type": "stream",
     "text": [
      "Sucesso\n",
      "\n",
      "Raspando https://machadodeassis.net/texto/o-conego-ou-metafisica-do-estilo/31645\n"
     ]
    },
    {
     "name": "stderr",
     "output_type": "stream",
     "text": [
      "\r",
      " 56%|████████████████████████████████████████████▊                                   | 112/200 [42:14<25:37, 17.48s/it]"
     ]
    },
    {
     "name": "stdout",
     "output_type": "stream",
     "text": [
      "Sucesso\n",
      "\n",
      "Raspando https://machadodeassis.net/texto/o-contrato/56827\n"
     ]
    },
    {
     "name": "stderr",
     "output_type": "stream",
     "text": [
      "\r",
      " 56%|█████████████████████████████████████████████▏                                  | 113/200 [42:26<23:02, 15.89s/it]"
     ]
    },
    {
     "name": "stdout",
     "output_type": "stream",
     "text": [
      "Sucesso\n",
      "\n",
      "Raspando https://machadodeassis.net/texto/o-destinado/56185\n"
     ]
    },
    {
     "name": "stderr",
     "output_type": "stream",
     "text": [
      "\r",
      " 57%|█████████████████████████████████████████████▌                                  | 114/200 [42:38<21:04, 14.71s/it]"
     ]
    },
    {
     "name": "stdout",
     "output_type": "stream",
     "text": [
      "Sucesso\n",
      "\n",
      "Raspando https://machadodeassis.net/texto/o-dicionario/31816\n"
     ]
    },
    {
     "name": "stderr",
     "output_type": "stream",
     "text": [
      "\r",
      " 57%|██████████████████████████████████████████████                                  | 115/200 [42:50<19:37, 13.85s/it]"
     ]
    },
    {
     "name": "stdout",
     "output_type": "stream",
     "text": [
      "Sucesso\n",
      "\n",
      "Raspando https://machadodeassis.net/texto/o-diplomatico/31130\n",
      "Sucesso\n",
      "\n"
     ]
    },
    {
     "name": "stderr",
     "output_type": "stream",
     "text": [
      "\r",
      " 58%|██████████████████████████████████████████████▍                                 | 116/200 [43:19<18:37, 13.30s/it]"
     ]
    },
    {
     "name": "stdout",
     "output_type": "stream",
     "text": [
      "Raspando https://machadodeassis.net/texto/o-emprestimo/28511\n"
     ]
    },
    {
     "name": "stderr",
     "output_type": "stream",
     "text": [
      "\r",
      " 58%|██████████████████████████████████████████████▊                                 | 117/200 [43:31<24:58, 18.06s/it]"
     ]
    },
    {
     "name": "stdout",
     "output_type": "stream",
     "text": [
      "Sucesso\n",
      "\n",
      "Raspando https://machadodeassis.net/texto/o-enfermeiro/31060\n"
     ]
    },
    {
     "name": "stderr",
     "output_type": "stream",
     "text": [
      "\r",
      " 59%|███████████████████████████████████████████████▏                                | 118/200 [43:43<22:09, 16.21s/it]"
     ]
    },
    {
     "name": "stdout",
     "output_type": "stream",
     "text": [
      "Sucesso\n",
      "\n",
      "Raspando https://machadodeassis.net/texto/o-escrivao-coimbra/61137\n"
     ]
    },
    {
     "name": "stderr",
     "output_type": "stream",
     "text": [
      "\r",
      " 60%|███████████████████████████████████████████████▌                                | 119/200 [43:55<20:14, 14.99s/it]"
     ]
    },
    {
     "name": "stdout",
     "output_type": "stream",
     "text": [
      "Sucesso\n",
      "\n",
      "Raspando https://machadodeassis.net/texto/o-espelho/28653\n"
     ]
    },
    {
     "name": "stderr",
     "output_type": "stream",
     "text": [
      "\r",
      " 60%|████████████████████████████████████████████████                                | 120/200 [44:07<18:50, 14.13s/it]"
     ]
    },
    {
     "name": "stdout",
     "output_type": "stream",
     "text": [
      "Sucesso\n",
      "\n",
      "Raspando https://machadodeassis.net/texto/o-imortal/55451\n"
     ]
    },
    {
     "name": "stderr",
     "output_type": "stream",
     "text": [
      "\r",
      " 60%|████████████████████████████████████████████████▍                               | 121/200 [44:23<19:21, 14.71s/it]"
     ]
    },
    {
     "name": "stdout",
     "output_type": "stream",
     "text": [
      "Sucesso\n",
      "\n",
      "Raspando https://machadodeassis.net/texto/o-lapso/29028\n"
     ]
    },
    {
     "name": "stderr",
     "output_type": "stream",
     "text": [
      "\r",
      " 61%|████████████████████████████████████████████████▊                               | 122/200 [45:00<27:37, 21.25s/it]"
     ]
    },
    {
     "name": "stdout",
     "output_type": "stream",
     "text": [
      "Sucesso\n",
      "\n",
      "Raspando https://machadodeassis.net/texto/o-machete/53353\n"
     ]
    },
    {
     "name": "stderr",
     "output_type": "stream",
     "text": [
      "\r",
      " 62%|█████████████████████████████████████████████████▏                              | 123/200 [45:12<23:45, 18.52s/it]"
     ]
    },
    {
     "name": "stdout",
     "output_type": "stream",
     "text": [
      "Sucesso\n",
      "\n",
      "Raspando https://machadodeassis.net/texto/o-melhor-remedio/56912\n"
     ]
    },
    {
     "name": "stderr",
     "output_type": "stream",
     "text": [
      "\r",
      " 62%|█████████████████████████████████████████████████▌                              | 124/200 [45:24<21:01, 16.60s/it]"
     ]
    },
    {
     "name": "stdout",
     "output_type": "stream",
     "text": [
      "Sucesso\n",
      "\n",
      "Raspando https://machadodeassis.net/texto/o-oraculo/35467\n"
     ]
    },
    {
     "name": "stderr",
     "output_type": "stream",
     "text": [
      "\r",
      " 62%|██████████████████████████████████████████████████                              | 125/200 [45:36<19:04, 15.25s/it]"
     ]
    },
    {
     "name": "stdout",
     "output_type": "stream",
     "text": [
      "Sucesso\n",
      "\n",
      "Raspando https://machadodeassis.net/texto/o-pais-das-quimeras/33439\n"
     ]
    },
    {
     "name": "stderr",
     "output_type": "stream",
     "text": [
      "\r",
      " 63%|██████████████████████████████████████████████████▍                             | 126/200 [45:48<17:38, 14.31s/it]"
     ]
    },
    {
     "name": "stdout",
     "output_type": "stream",
     "text": [
      "Sucesso\n",
      "\n",
      "Raspando https://machadodeassis.net/texto/o-passado-passado/51048\n"
     ]
    },
    {
     "name": "stderr",
     "output_type": "stream",
     "text": [
      "\r",
      " 64%|██████████████████████████████████████████████████▊                             | 127/200 [46:00<16:38, 13.67s/it]"
     ]
    },
    {
     "name": "stdout",
     "output_type": "stream",
     "text": [
      "Sucesso\n",
      "\n",
      "Raspando https://machadodeassis.net/texto/o-programa/55838\n"
     ]
    },
    {
     "name": "stderr",
     "output_type": "stream",
     "text": [
      "\r",
      " 64%|███████████████████████████████████████████████████▏                            | 128/200 [46:41<26:13, 21.85s/it]"
     ]
    },
    {
     "name": "stdout",
     "output_type": "stream",
     "text": [
      "Sucesso\n",
      "\n",
      "Raspando https://machadodeassis.net/texto/o-que-sao-as-mocas/35810\n"
     ]
    },
    {
     "name": "stderr",
     "output_type": "stream",
     "text": [
      "\r",
      " 64%|███████████████████████████████████████████████████▌                            | 129/200 [46:58<23:51, 20.17s/it]"
     ]
    },
    {
     "name": "stdout",
     "output_type": "stream",
     "text": [
      "Sucesso\n",
      "\n",
      "Raspando https://machadodeassis.net/texto/o-rei-dos-caiporas/39114\n"
     ]
    },
    {
     "name": "stderr",
     "output_type": "stream",
     "text": [
      "\r",
      " 65%|████████████████████████████████████████████████████                            | 130/200 [47:10<20:49, 17.85s/it]"
     ]
    },
    {
     "name": "stdout",
     "output_type": "stream",
     "text": [
      "Sucesso\n",
      "\n",
      "Raspando https://machadodeassis.net/texto/o-relogio-de-ouro/26957\n"
     ]
    },
    {
     "name": "stderr",
     "output_type": "stream",
     "text": [
      "\r",
      " 66%|████████████████████████████████████████████████████▍                           | 131/200 [47:22<18:40, 16.24s/it]"
     ]
    },
    {
     "name": "stdout",
     "output_type": "stream",
     "text": [
      "Sucesso\n",
      "\n",
      "Raspando https://machadodeassis.net/texto/o-sainete/49225\n"
     ]
    },
    {
     "name": "stderr",
     "output_type": "stream",
     "text": [
      "\r",
      " 66%|████████████████████████████████████████████████████▊                           | 132/200 [47:34<16:56, 14.95s/it]"
     ]
    },
    {
     "name": "stdout",
     "output_type": "stream",
     "text": [
      "Sucesso\n",
      "\n",
      "Raspando https://machadodeassis.net/texto/o-segredo-de-augusta/23397\n"
     ]
    },
    {
     "name": "stderr",
     "output_type": "stream",
     "text": [
      "\r",
      " 66%|█████████████████████████████████████████████████████▏                          | 133/200 [47:53<17:55, 16.05s/it]"
     ]
    },
    {
     "name": "stdout",
     "output_type": "stream",
     "text": [
      "Sucesso\n",
      "\n",
      "Raspando https://machadodeassis.net/texto/o-segredo-do-bonzo/28376\n"
     ]
    },
    {
     "name": "stderr",
     "output_type": "stream",
     "text": [
      "\r",
      " 67%|█████████████████████████████████████████████████████▌                          | 134/200 [48:30<24:32, 22.30s/it]"
     ]
    },
    {
     "name": "stdout",
     "output_type": "stream",
     "text": [
      "Sucesso\n",
      "\n",
      "Raspando https://machadodeassis.net/texto/o-ultimo-dia-de-um-poeta/36845\n"
     ]
    },
    {
     "name": "stderr",
     "output_type": "stream",
     "text": [
      "\r",
      " 68%|██████████████████████████████████████████████████████                          | 135/200 [48:48<22:46, 21.02s/it]"
     ]
    },
    {
     "name": "stdout",
     "output_type": "stream",
     "text": [
      "Sucesso\n",
      "\n",
      "Raspando https://machadodeassis.net/texto/onze-anos-depois/48930\n"
     ]
    },
    {
     "name": "stderr",
     "output_type": "stream",
     "text": [
      "\r",
      " 68%|██████████████████████████████████████████████████████▍                         | 136/200 [49:04<20:56, 19.63s/it]"
     ]
    },
    {
     "name": "stdout",
     "output_type": "stream",
     "text": [
      "Sucesso\n",
      "\n",
      "Raspando https://machadodeassis.net/texto/orai-por-ele/60440\n"
     ]
    },
    {
     "name": "stderr",
     "output_type": "stream",
     "text": [
      "\r",
      " 68%|██████████████████████████████████████████████████████▊                         | 137/200 [49:16<18:12, 17.35s/it]"
     ]
    },
    {
     "name": "stdout",
     "output_type": "stream",
     "text": [
      "Sucesso\n",
      "\n",
      "Raspando https://machadodeassis.net/texto/os-oculos-de-pedro-antao/45880\n"
     ]
    },
    {
     "name": "stderr",
     "output_type": "stream",
     "text": [
      "\r",
      " 69%|███████████████████████████████████████████████████████▏                        | 138/200 [49:29<16:32, 16.00s/it]"
     ]
    },
    {
     "name": "stdout",
     "output_type": "stream",
     "text": [
      "Sucesso\n",
      "\n",
      "Raspando https://machadodeassis.net/texto/pai-contra-mae/32488\n"
     ]
    },
    {
     "name": "stderr",
     "output_type": "stream",
     "text": [
      "\r",
      " 70%|███████████████████████████████████████████████████████▌                        | 139/200 [49:42<15:09, 14.90s/it]"
     ]
    },
    {
     "name": "stdout",
     "output_type": "stream",
     "text": [
      "Sucesso\n",
      "\n",
      "Raspando https://machadodeassis.net/texto/papeis-velhos/32418\n"
     ]
    },
    {
     "name": "stderr",
     "output_type": "stream",
     "text": [
      "\r",
      " 70%|████████████████████████████████████████████████████████                        | 140/200 [50:18<21:22, 21.37s/it]"
     ]
    },
    {
     "name": "stdout",
     "output_type": "stream",
     "text": [
      "Sucesso\n",
      "\n",
      "Raspando https://machadodeassis.net/texto/pilades-e-orestes/33199\n"
     ]
    },
    {
     "name": "stderr",
     "output_type": "stream",
     "text": [
      "\r",
      " 70%|████████████████████████████████████████████████████████▍                       | 141/200 [50:30<18:19, 18.64s/it]"
     ]
    },
    {
     "name": "stdout",
     "output_type": "stream",
     "text": [
      "Sucesso\n",
      "\n",
      "Raspando https://machadodeassis.net/texto/pobre-cardeal/58734\n"
     ]
    },
    {
     "name": "stderr",
     "output_type": "stream",
     "text": [
      "\r",
      " 71%|████████████████████████████████████████████████████████▊                       | 142/200 [50:42<16:04, 16.63s/it]"
     ]
    },
    {
     "name": "stdout",
     "output_type": "stream",
     "text": [
      "Sucesso\n",
      "\n",
      "Raspando https://machadodeassis.net/texto/pobre-finoca/59229\n"
     ]
    },
    {
     "name": "stderr",
     "output_type": "stream",
     "text": [
      "\r",
      " 72%|█████████████████████████████████████████████████████████▏                      | 143/200 [50:54<14:32, 15.31s/it]"
     ]
    },
    {
     "name": "stdout",
     "output_type": "stream",
     "text": [
      "Sucesso\n",
      "\n",
      "Raspando https://machadodeassis.net/texto/ponto-de-vista/27062\n"
     ]
    },
    {
     "name": "stderr",
     "output_type": "stream",
     "text": [
      "\r",
      " 72%|█████████████████████████████████████████████████████████▌                      | 144/200 [51:11<14:30, 15.55s/it]"
     ]
    },
    {
     "name": "stdout",
     "output_type": "stream",
     "text": [
      "Sucesso\n",
      "\n",
      "Raspando https://machadodeassis.net/texto/primas-de-sapucaia/29577\n"
     ]
    },
    {
     "name": "stderr",
     "output_type": "stream",
     "text": [
      "\r",
      " 72%|██████████████████████████████████████████████████████████                      | 145/200 [51:23<13:15, 14.47s/it]"
     ]
    },
    {
     "name": "stdout",
     "output_type": "stream",
     "text": [
      "Sucesso\n",
      "\n",
      "Raspando https://machadodeassis.net/texto/qual-dos-dois/42602\n"
     ]
    },
    {
     "name": "stderr",
     "output_type": "stream",
     "text": [
      "\r",
      " 73%|██████████████████████████████████████████████████████████▍                     | 146/200 [52:14<22:53, 25.44s/it]"
     ]
    },
    {
     "name": "stdout",
     "output_type": "stream",
     "text": [
      "Sucesso\n",
      "\n",
      "Raspando https://machadodeassis.net/texto/quem-conta-um-conto/43777\n"
     ]
    },
    {
     "name": "stderr",
     "output_type": "stream",
     "text": [
      "\r",
      " 74%|██████████████████████████████████████████████████████████▊                     | 147/200 [52:30<20:06, 22.76s/it]"
     ]
    },
    {
     "name": "stdout",
     "output_type": "stream",
     "text": [
      "Sucesso\n",
      "\n",
      "Raspando https://machadodeassis.net/texto/quem-nao-quer-ser-lobo/41310\n"
     ]
    },
    {
     "name": "stderr",
     "output_type": "stream",
     "text": [
      "\r",
      " 74%|███████████████████████████████████████████████████████████▏                    | 148/200 [52:48<18:31, 21.38s/it]"
     ]
    },
    {
     "name": "stdout",
     "output_type": "stream",
     "text": [
      "Sucesso\n",
      "\n",
      "Raspando https://machadodeassis.net/texto/questao-de-vaidade/34360\n"
     ]
    },
    {
     "name": "stderr",
     "output_type": "stream",
     "text": [
      "\r",
      " 74%|███████████████████████████████████████████████████████████▌                    | 149/200 [53:09<17:57, 21.12s/it]"
     ]
    },
    {
     "name": "stdout",
     "output_type": "stream",
     "text": [
      "Sucesso\n",
      "\n",
      "Raspando https://machadodeassis.net/texto/questoes-de-maridos/56353\n"
     ]
    },
    {
     "name": "stderr",
     "output_type": "stream",
     "text": [
      "\r",
      " 75%|████████████████████████████████████████████████████████████                    | 150/200 [53:21<15:20, 18.42s/it]"
     ]
    },
    {
     "name": "stdout",
     "output_type": "stream",
     "text": [
      "Sucesso\n",
      "\n",
      "Raspando https://machadodeassis.net/texto/rui-de-leao/40788\n"
     ]
    },
    {
     "name": "stderr",
     "output_type": "stream",
     "text": [
      "\r",
      " 76%|████████████████████████████████████████████████████████████▍                   | 151/200 [53:39<14:58, 18.33s/it]"
     ]
    },
    {
     "name": "stdout",
     "output_type": "stream",
     "text": [
      "Sucesso\n",
      "\n",
      "Raspando https://machadodeassis.net/texto/sales/58949\n"
     ]
    },
    {
     "name": "stderr",
     "output_type": "stream",
     "text": [
      "\r",
      " 76%|████████████████████████████████████████████████████████████▊                   | 152/200 [54:16<19:02, 23.79s/it]"
     ]
    },
    {
     "name": "stdout",
     "output_type": "stream",
     "text": [
      "Sucesso\n",
      "\n",
      "Raspando https://machadodeassis.net/texto/sem-olhos/51816\n"
     ]
    },
    {
     "name": "stderr",
     "output_type": "stream",
     "text": [
      "\r",
      " 76%|█████████████████████████████████████████████████████████████▏                  | 153/200 [54:28<15:59, 20.42s/it]"
     ]
    },
    {
     "name": "stdout",
     "output_type": "stream",
     "text": [
      "Sucesso\n",
      "\n",
      "Raspando https://machadodeassis.net/texto/silvestre/52407\n"
     ]
    },
    {
     "name": "stderr",
     "output_type": "stream",
     "text": [
      "\r",
      " 77%|█████████████████████████████████████████████████████████████▌                  | 154/200 [54:44<14:37, 19.08s/it]"
     ]
    },
    {
     "name": "stdout",
     "output_type": "stream",
     "text": [
      "Sucesso\n",
      "\n",
      "Raspando https://machadodeassis.net/texto/singular-ocorrencia/29187\n"
     ]
    },
    {
     "name": "stderr",
     "output_type": "stream",
     "text": [
      "\r",
      " 78%|██████████████████████████████████████████████████████████████                  | 155/200 [54:56<12:43, 16.96s/it]"
     ]
    },
    {
     "name": "stdout",
     "output_type": "stream",
     "text": [
      "Sucesso\n",
      "\n",
      "Raspando https://machadodeassis.net/texto/so/57605\n"
     ]
    },
    {
     "name": "stderr",
     "output_type": "stream",
     "text": [
      "\r",
      " 78%|██████████████████████████████████████████████████████████████▍                 | 156/200 [55:08<11:20, 15.48s/it]"
     ]
    },
    {
     "name": "stdout",
     "output_type": "stream",
     "text": [
      "Sucesso\n",
      "\n",
      "Raspando https://machadodeassis.net/texto/suje-se-gordo/33016\n"
     ]
    },
    {
     "name": "stderr",
     "output_type": "stream",
     "text": [
      "\r",
      " 78%|██████████████████████████████████████████████████████████████▊                 | 157/200 [55:20<10:25, 14.54s/it]"
     ]
    },
    {
     "name": "stdout",
     "output_type": "stream",
     "text": [
      "Sucesso\n",
      "\n",
      "Raspando https://machadodeassis.net/texto/tempo-de-crise/44137\n"
     ]
    },
    {
     "name": "stderr",
     "output_type": "stream",
     "text": [
      "\r",
      " 79%|███████████████████████████████████████████████████████████████▏                | 158/200 [55:57<14:52, 21.24s/it]"
     ]
    },
    {
     "name": "stdout",
     "output_type": "stream",
     "text": [
      "Sucesso\n",
      "\n",
      "Raspando https://machadodeassis.net/texto/teoria-do-medalhao/27839\n"
     ]
    },
    {
     "name": "stderr",
     "output_type": "stream",
     "text": [
      "\r",
      " 80%|███████████████████████████████████████████████████████████████▌                | 159/200 [56:09<12:36, 18.46s/it]"
     ]
    },
    {
     "name": "stdout",
     "output_type": "stream",
     "text": [
      "Sucesso\n",
      "\n",
      "Raspando https://machadodeassis.net/texto/terpsicore/58571\n"
     ]
    },
    {
     "name": "stderr",
     "output_type": "stream",
     "text": [
      "\r",
      " 80%|████████████████████████████████████████████████████████████████                | 160/200 [56:21<11:02, 16.57s/it]"
     ]
    },
    {
     "name": "stdout",
     "output_type": "stream",
     "text": [
      "Sucesso\n",
      "\n",
      "Raspando https://machadodeassis.net/texto/to-be-or-not-to-be/50000\n"
     ]
    },
    {
     "name": "stderr",
     "output_type": "stream",
     "text": [
      "\r",
      " 80%|████████████████████████████████████████████████████████████████▍               | 161/200 [56:38<10:44, 16.53s/it]"
     ]
    },
    {
     "name": "stdout",
     "output_type": "stream",
     "text": [
      "Sucesso\n",
      "\n",
      "Raspando https://machadodeassis.net/texto/tres-consequencias/56434\n"
     ]
    },
    {
     "name": "stderr",
     "output_type": "stream",
     "text": [
      "\r",
      " 81%|████████████████████████████████████████████████████████████████▊               | 162/200 [56:50<09:39, 15.25s/it]"
     ]
    },
    {
     "name": "stdout",
     "output_type": "stream",
     "text": [
      "Sucesso\n",
      "\n",
      "Raspando https://machadodeassis.net/texto/tres-tesouros-perdidos/33373\n"
     ]
    },
    {
     "name": "stderr",
     "output_type": "stream",
     "text": [
      "\r",
      " 82%|█████████████████████████████████████████████████████████████████▏              | 163/200 [57:02<08:49, 14.31s/it]"
     ]
    },
    {
     "name": "stdout",
     "output_type": "stream",
     "text": [
      "Sucesso\n",
      "\n",
      "Raspando https://machadodeassis.net/texto/trina-e-uma/56721\n"
     ]
    },
    {
     "name": "stderr",
     "output_type": "stream",
     "text": [
      "\r",
      " 82%|█████████████████████████████████████████████████████████████████▌              | 164/200 [57:39<12:39, 21.11s/it]"
     ]
    },
    {
     "name": "stdout",
     "output_type": "stream",
     "text": [
      "Sucesso\n",
      "\n",
      "Raspando https://machadodeassis.net/texto/trio-em-la-menor/30885\n"
     ]
    },
    {
     "name": "stderr",
     "output_type": "stream",
     "text": [
      "\r",
      " 82%|██████████████████████████████████████████████████████████████████              | 165/200 [57:53<11:06, 19.03s/it]"
     ]
    },
    {
     "name": "stdout",
     "output_type": "stream",
     "text": [
      "Sucesso\n",
      "\n",
      "Raspando https://machadodeassis.net/texto/troca-de-datas/56227\n"
     ]
    },
    {
     "name": "stderr",
     "output_type": "stream",
     "text": [
      "\r",
      " 83%|██████████████████████████████████████████████████████████████████▍             | 166/200 [58:08<09:58, 17.60s/it]"
     ]
    },
    {
     "name": "stdout",
     "output_type": "stream",
     "text": [
      "Sucesso\n",
      "\n",
      "Raspando https://machadodeassis.net/texto/ultimo-capitulo/29108\n"
     ]
    },
    {
     "name": "stderr",
     "output_type": "stream",
     "text": [
      "\r",
      " 84%|██████████████████████████████████████████████████████████████████▊             | 167/200 [58:20<08:44, 15.91s/it]"
     ]
    },
    {
     "name": "stdout",
     "output_type": "stream",
     "text": [
      "Sucesso\n",
      "\n",
      "Raspando https://machadodeassis.net/texto/um-almoco/52092\n"
     ]
    },
    {
     "name": "stderr",
     "output_type": "stream",
     "text": [
      "\r",
      " 84%|███████████████████████████████████████████████████████████████████▏            | 168/200 [58:34<08:13, 15.42s/it]"
     ]
    },
    {
     "name": "stdout",
     "output_type": "stream",
     "text": [
      "Sucesso\n",
      "\n",
      "Raspando https://machadodeassis.net/texto/um-ambicioso/52989\n"
     ]
    },
    {
     "name": "stderr",
     "output_type": "stream",
     "text": [
      "\r",
      " 84%|███████████████████████████████████████████████████████████████████▌            | 169/200 [58:50<08:05, 15.67s/it]"
     ]
    },
    {
     "name": "stdout",
     "output_type": "stream",
     "text": [
      "Sucesso\n",
      "\n",
      "Raspando https://machadodeassis.net/texto/um-apologo/31424\n"
     ]
    },
    {
     "name": "stderr",
     "output_type": "stream",
     "text": [
      "\r",
      " 85%|████████████████████████████████████████████████████████████████████            | 170/200 [59:27<10:58, 21.93s/it]"
     ]
    },
    {
     "name": "stdout",
     "output_type": "stream",
     "text": [
      "Sucesso\n",
      "\n",
      "Raspando https://machadodeassis.net/texto/um-capitao-de-voluntarios/32877\n"
     ]
    },
    {
     "name": "stderr",
     "output_type": "stream",
     "text": [
      "\r",
      " 86%|████████████████████████████████████████████████████████████████████▍           | 171/200 [59:39<09:13, 19.09s/it]"
     ]
    },
    {
     "name": "stdout",
     "output_type": "stream",
     "text": [
      "Sucesso\n",
      "\n",
      "Raspando https://machadodeassis.net/texto/um-dia-de-entrudo/46175\n"
     ]
    },
    {
     "name": "stderr",
     "output_type": "stream",
     "text": [
      "\r",
      " 86%|████████████████████████████████████████████████████████████████████▊           | 172/200 [59:52<08:02, 17.22s/it]"
     ]
    },
    {
     "name": "stdout",
     "output_type": "stream",
     "text": [
      "Sucesso\n",
      "\n",
      "Raspando https://machadodeassis.net/texto/um-distico/58693\n"
     ]
    },
    {
     "name": "stderr",
     "output_type": "stream",
     "text": [
      "\r",
      " 86%|███████████████████████████████████████████████████████████████████▍          | 173/200 [1:00:04<07:01, 15.62s/it]"
     ]
    },
    {
     "name": "stdout",
     "output_type": "stream",
     "text": [
      "Sucesso\n",
      "\n",
      "Raspando https://machadodeassis.net/texto/um-erradio/31847\n"
     ]
    },
    {
     "name": "stderr",
     "output_type": "stream",
     "text": [
      "\r",
      " 87%|███████████████████████████████████████████████████████████████████▊          | 174/200 [1:00:16<06:20, 14.63s/it]"
     ]
    },
    {
     "name": "stdout",
     "output_type": "stream",
     "text": [
      "Sucesso\n",
      "\n",
      "Raspando https://machadodeassis.net/texto/um-esqueleto/48633\n"
     ]
    },
    {
     "name": "stderr",
     "output_type": "stream",
     "text": [
      "\r",
      " 88%|████████████████████████████████████████████████████████████████████▎         | 175/200 [1:00:32<06:17, 15.11s/it]"
     ]
    },
    {
     "name": "stdout",
     "output_type": "stream",
     "text": [
      "Sucesso\n",
      "\n",
      "Raspando https://machadodeassis.net/texto/um-homem-celebre/30592\n"
     ]
    },
    {
     "name": "stderr",
     "output_type": "stream",
     "text": [
      "\r",
      " 88%|████████████████████████████████████████████████████████████████████▋         | 176/200 [1:01:09<08:39, 21.64s/it]"
     ]
    },
    {
     "name": "stdout",
     "output_type": "stream",
     "text": [
      "Sucesso\n",
      "\n",
      "Raspando https://machadodeassis.net/texto/um-homem-superior/44708\n"
     ]
    },
    {
     "name": "stderr",
     "output_type": "stream",
     "text": [
      "\r",
      " 88%|█████████████████████████████████████████████████████████████████████         | 177/200 [1:01:26<07:42, 20.09s/it]"
     ]
    },
    {
     "name": "stdout",
     "output_type": "stream",
     "text": [
      "Sucesso\n",
      "\n",
      "Raspando https://machadodeassis.net/texto/um-incendio/61095\n"
     ]
    },
    {
     "name": "stderr",
     "output_type": "stream",
     "text": [
      "\r",
      " 89%|█████████████████████████████████████████████████████████████████████▍        | 178/200 [1:01:39<06:38, 18.11s/it]"
     ]
    },
    {
     "name": "stdout",
     "output_type": "stream",
     "text": [
      "Sucesso\n",
      "\n",
      "Raspando https://machadodeassis.net/texto/um-para-o-outro/54377\n"
     ]
    },
    {
     "name": "stderr",
     "output_type": "stream",
     "text": [
      "\r",
      " 90%|█████████████████████████████████████████████████████████████████████▊        | 179/200 [1:01:58<06:24, 18.30s/it]"
     ]
    },
    {
     "name": "stdout",
     "output_type": "stream",
     "text": [
      "Sucesso\n",
      "\n",
      "Raspando https://machadodeassis.net/texto/um-quarto-de-seculo/60066\n"
     ]
    },
    {
     "name": "stderr",
     "output_type": "stream",
     "text": [
      "\r",
      " 90%|██████████████████████████████████████████████████████████████████████▏       | 180/200 [1:02:12<05:41, 17.07s/it]"
     ]
    },
    {
     "name": "stdout",
     "output_type": "stream",
     "text": [
      "Sucesso\n",
      "\n",
      "Raspando https://machadodeassis.net/texto/um-sonho-e-outro-sonho/59534\n"
     ]
    },
    {
     "name": "stderr",
     "output_type": "stream",
     "text": [
      "\r",
      " 90%|██████████████████████████████████████████████████████████████████████▌       | 181/200 [1:02:24<04:56, 15.61s/it]"
     ]
    },
    {
     "name": "stdout",
     "output_type": "stream",
     "text": [
      "Sucesso\n",
      "\n",
      "Raspando https://machadodeassis.net/texto/uma-aguia-sem-asas/42331\n"
     ]
    },
    {
     "name": "stderr",
     "output_type": "stream",
     "text": [
      "\r",
      " 91%|██████████████████████████████████████████████████████████████████████▉       | 182/200 [1:03:03<06:46, 22.56s/it]"
     ]
    },
    {
     "name": "stdout",
     "output_type": "stream",
     "text": [
      "Sucesso\n",
      "\n",
      "Raspando https://machadodeassis.net/texto/uma-carta/57550\n"
     ]
    },
    {
     "name": "stderr",
     "output_type": "stream",
     "text": [
      "\r",
      " 92%|███████████████████████████████████████████████████████████████████████▎      | 183/200 [1:03:15<05:29, 19.36s/it]"
     ]
    },
    {
     "name": "stdout",
     "output_type": "stream",
     "text": [
      "Sucesso\n",
      "\n",
      "Raspando https://machadodeassis.net/texto/uma-excursao-milagrosa/35596\n"
     ]
    },
    {
     "name": "stderr",
     "output_type": "stream",
     "text": [
      "\r",
      " 92%|███████████████████████████████████████████████████████████████████████▊      | 184/200 [1:03:28<04:37, 17.32s/it]"
     ]
    },
    {
     "name": "stdout",
     "output_type": "stream",
     "text": [
      "Sucesso\n",
      "\n",
      "Raspando https://machadodeassis.net/texto/uma-loureira/41915\n"
     ]
    },
    {
     "name": "stderr",
     "output_type": "stream",
     "text": [
      "\r",
      " 92%|████████████████████████████████████████████████████████████████████████▏     | 185/200 [1:03:44<04:14, 16.97s/it]"
     ]
    },
    {
     "name": "stdout",
     "output_type": "stream",
     "text": [
      "Sucesso\n",
      "\n",
      "Raspando https://machadodeassis.net/texto/uma-noite/60553\n"
     ]
    },
    {
     "name": "stderr",
     "output_type": "stream",
     "text": [
      "\r",
      " 93%|████████████████████████████████████████████████████████████████████████▌     | 186/200 [1:03:56<03:38, 15.59s/it]"
     ]
    },
    {
     "name": "stdout",
     "output_type": "stream",
     "text": [
      "Sucesso\n",
      "\n",
      "Raspando https://machadodeassis.net/texto/uma-partida/59686\n"
     ]
    },
    {
     "name": "stderr",
     "output_type": "stream",
     "text": [
      "\r",
      " 94%|████████████████████████████████████████████████████████████████████████▉     | 187/200 [1:04:12<03:25, 15.80s/it]"
     ]
    },
    {
     "name": "stdout",
     "output_type": "stream",
     "text": [
      "Sucesso\n",
      "\n",
      "Raspando https://machadodeassis.net/texto/uma-por-outra/60792\n"
     ]
    },
    {
     "name": "stderr",
     "output_type": "stream",
     "text": [
      "\r",
      " 94%|█████████████████████████████████████████████████████████████████████████▎    | 188/200 [1:04:50<04:26, 22.20s/it]"
     ]
    },
    {
     "name": "stdout",
     "output_type": "stream",
     "text": [
      "Sucesso\n",
      "\n",
      "Raspando https://machadodeassis.net/texto/uma-senhora/29661\n"
     ]
    },
    {
     "name": "stderr",
     "output_type": "stream",
     "text": [
      "\r",
      " 94%|█████████████████████████████████████████████████████████████████████████▋    | 189/200 [1:05:02<03:31, 19.20s/it]"
     ]
    },
    {
     "name": "stdout",
     "output_type": "stream",
     "text": [
      "Sucesso\n",
      "\n",
      "Raspando https://machadodeassis.net/texto/uma-visita-de-alcibiades/28724\n"
     ]
    },
    {
     "name": "stderr",
     "output_type": "stream",
     "text": [
      "\r",
      " 95%|██████████████████████████████████████████████████████████████████████████    | 190/200 [1:05:14<02:50, 17.02s/it]"
     ]
    },
    {
     "name": "stdout",
     "output_type": "stream",
     "text": [
      "Sucesso\n",
      "\n",
      "Raspando https://machadodeassis.net/texto/umas-ferias/33058\n"
     ]
    },
    {
     "name": "stderr",
     "output_type": "stream",
     "text": [
      "\r",
      " 96%|██████████████████████████████████████████████████████████████████████████▍   | 191/200 [1:05:26<02:19, 15.53s/it]"
     ]
    },
    {
     "name": "stdout",
     "output_type": "stream",
     "text": [
      "Sucesso\n",
      "\n",
      "Raspando https://machadodeassis.net/texto/uns-bracos/30526\n"
     ]
    },
    {
     "name": "stderr",
     "output_type": "stream",
     "text": [
      "\r",
      " 96%|██████████████████████████████████████████████████████████████████████████▉   | 192/200 [1:05:38<01:55, 14.45s/it]"
     ]
    },
    {
     "name": "stdout",
     "output_type": "stream",
     "text": [
      "Sucesso\n",
      "\n",
      "Raspando https://machadodeassis.net/texto/valerio/47226\n"
     ]
    },
    {
     "name": "stderr",
     "output_type": "stream",
     "text": [
      "\r",
      " 96%|███████████████████████████████████████████████████████████████████████████▎  | 193/200 [1:05:56<01:49, 15.60s/it]"
     ]
    },
    {
     "name": "stdout",
     "output_type": "stream",
     "text": [
      "Sucesso\n",
      "\n",
      "Raspando https://machadodeassis.net/texto/venus-divina-venus/59883\n"
     ]
    },
    {
     "name": "stderr",
     "output_type": "stream",
     "text": [
      "\r",
      " 97%|███████████████████████████████████████████████████████████████████████████▋  | 194/200 [1:06:33<02:12, 22.06s/it]"
     ]
    },
    {
     "name": "stdout",
     "output_type": "stream",
     "text": [
      "Sucesso\n",
      "\n",
      "Raspando https://machadodeassis.net/texto/verba-testamentaria/28831\n"
     ]
    },
    {
     "name": "stderr",
     "output_type": "stream",
     "text": [
      "\r",
      " 98%|████████████████████████████████████████████████████████████████████████████  | 195/200 [1:06:45<01:35, 19.04s/it]"
     ]
    },
    {
     "name": "stdout",
     "output_type": "stream",
     "text": [
      "Sucesso\n",
      "\n",
      "Raspando https://machadodeassis.net/texto/viagem-a-roda-de-mim-mesmo/58460\n"
     ]
    },
    {
     "name": "stderr",
     "output_type": "stream",
     "text": [
      "\r",
      " 98%|████████████████████████████████████████████████████████████████████████████▍ | 196/200 [1:06:59<01:10, 17.50s/it]"
     ]
    },
    {
     "name": "stdout",
     "output_type": "stream",
     "text": [
      "Sucesso\n",
      "\n",
      "Raspando https://machadodeassis.net/texto/vidros-quebrados/56474\n"
     ]
    },
    {
     "name": "stderr",
     "output_type": "stream",
     "text": [
      "\r",
      " 98%|████████████████████████████████████████████████████████████████████████████▊ | 197/200 [1:07:11<00:47, 15.87s/it]"
     ]
    },
    {
     "name": "stdout",
     "output_type": "stream",
     "text": [
      "Sucesso\n",
      "\n",
      "Raspando https://machadodeassis.net/texto/vinte-anos-vinte-anos/57300\n"
     ]
    },
    {
     "name": "stderr",
     "output_type": "stream",
     "text": [
      "\r",
      " 99%|█████████████████████████████████████████████████████████████████████████████▏| 198/200 [1:07:23<00:29, 14.81s/it]"
     ]
    },
    {
     "name": "stdout",
     "output_type": "stream",
     "text": [
      "Sucesso\n",
      "\n",
      "Raspando https://machadodeassis.net/texto/virginius/33618\n"
     ]
    },
    {
     "name": "stderr",
     "output_type": "stream",
     "text": [
      "\r",
      "100%|█████████████████████████████████████████████████████████████████████████████▌| 199/200 [1:07:38<00:14, 14.59s/it]"
     ]
    },
    {
     "name": "stdout",
     "output_type": "stream",
     "text": [
      "Sucesso\n",
      "\n",
      "Raspando https://machadodeassis.net/texto/viver/31530\n"
     ]
    },
    {
     "name": "stderr",
     "output_type": "stream",
     "text": [
      "100%|██████████████████████████████████████████████████████████████████████████████| 200/200 [1:08:15<00:00, 20.48s/it]"
     ]
    },
    {
     "name": "stdout",
     "output_type": "stream",
     "text": [
      "Sucesso\n",
      "\n",
      "Concluido\n"
     ]
    },
    {
     "name": "stderr",
     "output_type": "stream",
     "text": [
      "\n"
     ]
    }
   ],
   "source": [
    "for i in tqdm(match):\n",
    "    salva_html(i)\n"
   ]
  },
  {
   "cell_type": "code",
   "execution_count": null,
   "id": "1e278b54",
   "metadata": {},
   "outputs": [],
   "source": []
  }
 ],
 "metadata": {
  "kernelspec": {
   "display_name": "Python 3 (ipykernel)",
   "language": "python",
   "name": "python3"
  },
  "language_info": {
   "codemirror_mode": {
    "name": "ipython",
    "version": 3
   },
   "file_extension": ".py",
   "mimetype": "text/x-python",
   "name": "python",
   "nbconvert_exporter": "python",
   "pygments_lexer": "ipython3",
   "version": "3.10.0"
  }
 },
 "nbformat": 4,
 "nbformat_minor": 5
}
