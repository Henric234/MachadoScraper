{
 "cells": [
  {
   "cell_type": "markdown",
   "id": "f8837a96",
   "metadata": {},
   "source": [
    "# HTML to txt\n",
    "In this notebook, we will be converting the html files to txt, trying to remove everything that is not the original text."
   ]
  },
  {
   "cell_type": "code",
   "execution_count": 1,
   "id": "10812944",
   "metadata": {},
   "outputs": [],
   "source": [
    "import os\n",
    "import re\n",
    "\n",
    "from tqdm import tqdm\n",
    "from bs4 import BeautifulSoup"
   ]
  },
  {
   "cell_type": "code",
   "execution_count": 2,
   "id": "1c105e2a",
   "metadata": {},
   "outputs": [],
   "source": [
    "def html_to_txt(path):\n",
    "    \"\"\"\n",
    "    This function is an adaptation from PeYoTlL's answer in this thread:\n",
    "    https://stackoverflow.com/questions/328356/extracting-text-from-html-file-using-python\n",
    "    \"\"\"\n",
    "    f = open(path, \"rt\",encoding='utf-8')\n",
    "    html = f.read()\n",
    "    soup = BeautifulSoup(html, features=\"html.parser\")\n",
    "    \n",
    "    #I was trying to filter by the name of the text but found a better way\n",
    "    #pattern_title = r\"htmls/html_([A-z-0-9]*)_\\d+\\.html\"\n",
    "    #match_title = re.match(pattern_title,path)\n",
    "    #title = match_title[1].replace(\"-\",\" \")\n",
    "    \n",
    "    # kill all script and style elements\n",
    "    for script in soup([\"script\", \"style\"]):\n",
    "        script.extract()    # rip it out\n",
    "\n",
    "    # get text\n",
    "    text = soup.get_text()\n",
    "\n",
    "    # break into lines and remove leading and trailing space on each\n",
    "    lines = (line.strip() for line in text.splitlines())\n",
    "    # break multi-headlines into a line each\n",
    "    chunks = (phrase.strip() for line in lines for phrase in line.split(\"  \"))\n",
    "    # drop blank lines\n",
    "    text = '\\n'.join(chunk for chunk in chunks if chunk)\n",
    "    \n",
    "    pattern = r\"Moreira Salles\\n[\\w ]*\\n[\\w !,.?-]*\\n1[8,9]\\d{2}\\n([. \\n\\d\\w\\D]*)(?=machadodeassis.net\\nRe)\"\n",
    "    #Some other patterns I tried before settling on the one I used\n",
    "    #Moreira Salles\\n[\\w ]*\\n[\\w ]*\\n1[8,9]\\d{2}\\n\n",
    "    #pattern = r\"(?<=Obra > )([. \\n\\d\\w\\D]*)(?=machadodeassis.net\\nRe)\"\n",
    "    match = re.search(pattern,text)\n",
    "\n",
    "    return match[1]"
   ]
  },
  {
   "cell_type": "code",
   "execution_count": 3,
   "id": "4193cf81",
   "metadata": {},
   "outputs": [
    {
     "name": "stderr",
     "output_type": "stream",
     "text": [
      "100%|████████████████████████████████████████████████████████████████████████████████| 200/200 [00:10<00:00, 19.77it/s]\n"
     ]
    }
   ],
   "source": [
    "for i in tqdm(os.listdir('htmls')):\n",
    "    save = html_to_txt('htmls/'+i)\n",
    "    with open(f'txts/{i}.txt', 'w', encoding='utf-8') as f:\n",
    "        f.write(save)\n"
   ]
  }
 ],
 "metadata": {
  "kernelspec": {
   "display_name": "Python 3",
   "language": "python",
   "name": "python3"
  },
  "language_info": {
   "codemirror_mode": {
    "name": "ipython",
    "version": 3
   },
   "file_extension": ".py",
   "mimetype": "text/x-python",
   "name": "python",
   "nbconvert_exporter": "python",
   "pygments_lexer": "ipython3",
   "version": "3.10.0 (tags/v3.10.0:b494f59, Oct  4 2021, 19:00:18) [MSC v.1929 64 bit (AMD64)]"
  },
  "vscode": {
   "interpreter": {
    "hash": "c94e47fb1790328c9f2aba44bcfb7cae2a4e9fcda221129bdb65fccf8594cdcd"
   }
  }
 },
 "nbformat": 4,
 "nbformat_minor": 5
}
